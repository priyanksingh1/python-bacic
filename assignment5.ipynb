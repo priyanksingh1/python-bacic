{
 "cells": [
  {
   "cell_type": "code",
   "execution_count": 9,
   "id": "53d5658b-040f-4974-8f78-4cd844f5fba9",
   "metadata": {},
   "outputs": [
    {
     "name": "stdout",
     "output_type": "stream",
     "text": [
      "3\n"
     ]
    }
   ],
   "source": [
    "#1\n",
    "def occurrences(i, arr):\n",
    "    count=0;\n",
    "    for j in arr:\n",
    "        if j==i:\n",
    "            count=count+1\n",
    "    print(count)\n",
    "    \n",
    "a = [1, 3, 5, 3, 7, 9, 3]\n",
    "occurrences(3, a)"
   ]
  },
  {
   "cell_type": "code",
   "execution_count": 11,
   "id": "fde2a848-8c35-4405-b245-6d3d0e8ac5d5",
   "metadata": {},
   "outputs": [
    {
     "name": "stdout",
     "output_type": "stream",
     "text": [
      "[1, 3, 5, 7, 9, 1, 3, 5, 7, 9]\n"
     ]
    }
   ],
   "source": [
    "#2\n",
    "def app(arr1, arr2):\n",
    "    for x in a2:\n",
    "        a1.append(x)\n",
    "    print(a1)\n",
    "a1=[1, 3, 5, 7, 9]\n",
    "a2=[1, 3, 5, 7, 9]\n",
    "app(a1, a2)"
   ]
  },
  {
   "cell_type": "code",
   "execution_count": 10,
   "id": "6dcea1fa-0206-46bf-9e90-948c6caa739c",
   "metadata": {},
   "outputs": [
    {
     "name": "stdout",
     "output_type": "stream",
     "text": [
      "[12.23, 13.32, 100, 36.32]\n",
      "[ 12.23  13.32 100.    36.32]\n"
     ]
    }
   ],
   "source": [
    "'''3'''\n",
    "import numpy as n\n",
    "Y = [12.23, 13.32, 100, 36.32]\n",
    "print(Y)\n",
    "X = n.array(Y)\n",
    "print(X)"
   ]
  },
  {
   "cell_type": "code",
   "execution_count": 12,
   "id": "0b2f8243-9b49-4802-81ad-2c03862fa28c",
   "metadata": {},
   "outputs": [
    {
     "name": "stdout",
     "output_type": "stream",
     "text": [
      "3\n",
      "4\n",
      "12\n"
     ]
    }
   ],
   "source": [
    "#4\n",
    "import numpy as n \n",
    "arr = n.array([1,2,3])\n",
    "s = arr.size \n",
    "print (s)\n",
    "l = arr.itemsize\n",
    "print (l)\n",
    "t = arr.nbytes\n",
    "print(t)\n"
   ]
  },
  {
   "cell_type": "code",
   "execution_count": 13,
   "id": "8acedb36-7547-4184-a902-649c531f7b89",
   "metadata": {},
   "outputs": [
    {
     "name": "stdout",
     "output_type": "stream",
     "text": [
      "[[15 35]\n",
      " [10 20]]\n"
     ]
    }
   ],
   "source": [
    "import numpy as n\n",
    "A = n.array([[3, 7],[2, 4]])\n",
    "R = 5 * A\n",
    "print(R)"
   ]
  },
  {
   "cell_type": "code",
   "execution_count": 15,
   "id": "70d540a9-558f-4e0d-b749-0f183d5f9994",
   "metadata": {},
   "outputs": [
    {
     "name": "stdout",
     "output_type": "stream",
     "text": [
      "13\n"
     ]
    }
   ],
   "source": [
    "import numpy as n \n",
    "U = n.array([3, -2])\n",
    "V = n.array([5, 1])\n",
    "D = n.dot(U,V)\n",
    "print (D)"
   ]
  },
  {
   "cell_type": "code",
   "execution_count": 1,
   "id": "e037b9ed-413c-41b7-ab50-a10560f02f1d",
   "metadata": {},
   "outputs": [
    {
     "name": "stdout",
     "output_type": "stream",
     "text": [
      "[[ 9 16 21]\n",
      " [24 25 24]\n",
      " [21 16  9]]\n"
     ]
    }
   ],
   "source": [
    "import numpy as n\n",
    "A = n.array([[1, 2, 3],\n",
    "            [4, 5, 6],\n",
    "            [7, 8, 9]])\n",
    "B = n.array([[9, 8, 7],\n",
    "            [6, 5, 4],\n",
    "            [3, 2, 1]])\n",
    "D = n.multiply(A, B)\n",
    "print(D)"
   ]
  },
  {
   "cell_type": "code",
   "execution_count": 14,
   "id": "244fe8e3-67a8-47a7-b7cc-f6892d74127f",
   "metadata": {},
   "outputs": [
    {
     "name": "stdout",
     "output_type": "stream",
     "text": [
      "[ 9 -1 18]\n"
     ]
    }
   ],
   "source": [
    "import numpy as n\n",
    "M = n.array([[4, 2, 1],\n",
    "            [1, 3, 0],\n",
    "            [2, 1, 5]])\n",
    "X = n.array([2, -1, 3])\n",
    "D = n.dot(M, X)\n",
    "print(D)"
   ]
  },
  {
   "cell_type": "code",
   "execution_count": 2,
   "id": "14584a55-544e-4c75-a511-7232d34b88ee",
   "metadata": {},
   "outputs": [
    {
     "name": "stdout",
     "output_type": "stream",
     "text": [
      "[[15 35]\n",
      " [10 20]]\n"
     ]
    }
   ],
   "source": [
    "#6\n",
    "import numpy as np\n",
    "A = np.array([[3, 7], [2, 4]])\n",
    "result_matrix = 5 * A\n",
    "print(result_matrix)"
   ]
  },
  {
   "cell_type": "code",
   "execution_count": 3,
   "id": "349dcd07-9ac0-4d6f-9a44-f9e3e07828fa",
   "metadata": {},
   "outputs": [
    {
     "name": "stdout",
     "output_type": "stream",
     "text": [
      "[15, 35]\n",
      "[10, 20]\n"
     ]
    }
   ],
   "source": [
    "#7\n",
    "A = [[3, 7], [2, 4]]\n",
    "result_matrix = [[5 * element for element in row] for row in A]\n",
    "for row in result_matrix:\n",
    "    print(row)"
   ]
  },
  {
   "cell_type": "code",
   "execution_count": 4,
   "id": "ec5ebc69-c314-4408-ba22-a0ea0f02dc7b",
   "metadata": {},
   "outputs": [
    {
     "name": "stdout",
     "output_type": "stream",
     "text": [
      "Dot product of u and v: 13\n"
     ]
    }
   ],
   "source": [
    "#8\n",
    "u = [3, -2]\n",
    "v = [5, 1]\n",
    "dot_product = u[0] * v[0] + u[1] * v[1]\n",
    "print(\"Dot product of u and v:\", dot_product)"
   ]
  },
  {
   "cell_type": "code",
   "execution_count": 5,
   "id": "22261762-ff05-48e8-9620-10a8fbbd4be8",
   "metadata": {},
   "outputs": [
    {
     "name": "stdout",
     "output_type": "stream",
     "text": [
      "[[ 30  24  18]\n",
      " [ 84  69  54]\n",
      " [138 114  90]]\n"
     ]
    }
   ],
   "source": [
    "#9\n",
    "import numpy as np\n",
    "A = np.array([[1, 2, 3],\n",
    "              [4, 5, 6],\n",
    "              [7, 8, 9]])\n",
    "B = np.array([[9, 8, 7],\n",
    "              [6, 5, 4],\n",
    "              [3, 2, 1]])\n",
    "result = np.dot(A, B)\n",
    "print(result)"
   ]
  },
  {
   "cell_type": "code",
   "execution_count": null,
   "id": "c5f15830-b43a-4884-8e1d-bf340518ad1d",
   "metadata": {},
   "outputs": [],
   "source": [
    "#10\n",
    "import numpy as n\n",
    "M = n.array([[[4, 2, 1],\n",
    "[1, 3, 0],\n",
    "[2, 1, 5]],\n",
    "[[-1, 2, 3],\n",
    "[0, -3, 1],\n",
    "[2, 1, 0]]])\n",
    "X = n.array([2, -1, 3])\n",
    "D = n.dot(M, X)\n",
    "print(D)\n"
   ]
  },
  {
   "cell_type": "code",
   "execution_count": 19,
   "id": "fb25406c-84d5-4bb7-ae3d-5050e208e160",
   "metadata": {},
   "outputs": [
    {
     "name": "stdout",
     "output_type": "stream",
     "text": [
      "639\n"
     ]
    }
   ],
   "source": [
    "import numpy as n\n",
    "sum=0\n",
    "prime = n.array([2 ,3, 5, 7, 11, 13, 17, 19, 23, 29, 31, 37, 41, 43, 47, 53, 59, 61, 67, 71])\n",
    "for x in prime:\n",
    "\tsum = sum + x\n",
    "print (sum)"
   ]
  },
  {
   "cell_type": "code",
   "execution_count": 20,
   "id": "97e22edf-3fae-4e9f-803d-a5dbdd5616c3",
   "metadata": {},
   "outputs": [
    {
     "name": "stdout",
     "output_type": "stream",
     "text": [
      "[25.5 26.2 24.8 23.5 27.  25.9 28.3]\n",
      "25.88571428571429\n",
      "(array([1, 4, 5, 6], dtype=int64),)\n"
     ]
    }
   ],
   "source": [
    "import numpy as np\n",
    "temperatures = np.array([25.5, 26.2, 24.8, 23.5, 27.0, 25.9, 28.3])\n",
    "print(temperatures)\n",
    "mean = np.mean(temperatures)\n",
    "print(mean)\n",
    "indices = np.where(temperatures > mean)\n",
    "print(indices)"
   ]
  },
  {
   "cell_type": "code",
   "execution_count": 21,
   "id": "4469bd25-ec38-44c0-908a-c60a77505c46",
   "metadata": {},
   "outputs": [
    {
     "name": "stdout",
     "output_type": "stream",
     "text": [
      "[10 11 12 13 14 15 16 17 18 19 20 21 22 23 24 25 26 27 28 29 30 31 32 33\n",
      " 34 35 36 37 38 39 40 41 42 43 44 45 46 47 48 49 50]\n",
      "\n",
      " [15 16 17 18 19 20 21 22 23 24 25]\n"
     ]
    }
   ],
   "source": [
    "import numpy as n\n",
    "array = n.arange(10,51)\n",
    "print (array)\n",
    "extract = array[5:16]\n",
    "print (\"\\n\",extract)"
   ]
  },
  {
   "cell_type": "code",
   "execution_count": 22,
   "id": "ed467201-b8c4-4cf5-ba3c-ed1f0a2d33cc",
   "metadata": {},
   "outputs": [
    {
     "name": "stdout",
     "output_type": "stream",
     "text": [
      "[[ 1  2  3  4]\n",
      " [ 5  6  7  8]\n",
      " [ 9 10 11 12]\n",
      " [13 14 15 16]] \n",
      "\n",
      "[[ 6  7]\n",
      " [10 11]]\n"
     ]
    }
   ],
   "source": [
    "import numpy as np\n",
    "matrix = np.array([[1, 2, 3, 4],\n",
    "[5, 6, 7, 8],\n",
    "[9, 10, 11, 12],\n",
    "[13, 14, 15, 16]])\n",
    "print(matrix,\"\\n\")\n",
    "submatrix = matrix[1:3,1:3]\n",
    "print(submatrix)\n"
   ]
  },
  {
   "cell_type": "code",
   "execution_count": 23,
   "id": "79db83a8-3f85-426b-a8bb-ad659f4d1d93",
   "metadata": {},
   "outputs": [
    {
     "name": "stdout",
     "output_type": "stream",
     "text": [
      "[[0.17266998 0.7705395  0.66488711 0.19024762 0.91845736]\n",
      " [0.5904469  0.61128616 0.57100172 0.87156718 0.39575481]\n",
      " [0.17480298 0.08907245 0.37548601 0.58549068 0.11535605]\n",
      " [0.17488206 0.25157326 0.65179316 0.92292375 0.6606202 ]\n",
      " [0.69692172 0.86700684 0.83382112 0.04327357 0.64982709]]\n",
      "[0.17266998 0.61128616 0.37548601 0.92292375 0.64982709]\n"
     ]
    }
   ],
   "source": [
    "import numpy as np\n",
    "random = np.random.rand(5, 5)\n",
    "print (random)\n",
    "diagonall = np.diagonal(random)\n",
    "print (diagonall)"
   ]
  },
  {
   "cell_type": "code",
   "execution_count": 24,
   "id": "d6a993f9-417c-4ae7-b5b3-419da27db3e9",
   "metadata": {},
   "outputs": [
    {
     "name": "stdout",
     "output_type": "stream",
     "text": [
      "[[[0.54183103 0.49980458 0.13531587 0.70843636 0.98008952]\n",
      "  [0.486095   0.09911059 0.57435803 0.45840845 0.26480203]\n",
      "  [0.01343832 0.81039386 0.53533926 0.92355338 0.27883859]\n",
      "  [0.75355177 0.58806347 0.61510585 0.96725128 0.23712155]]\n",
      "\n",
      " [[0.43878856 0.18974885 0.159269   0.96620052 0.65929655]\n",
      "  [0.55565293 0.60692072 0.62489955 0.00753085 0.23755702]\n",
      "  [0.13513892 0.87577782 0.40159771 0.52687814 0.14322783]\n",
      "  [0.88002958 0.23444163 0.89036708 0.89365065 0.4469998 ]]\n",
      "\n",
      " [[0.51244828 0.11817227 0.06393199 0.69408776 0.28441276]\n",
      "  [0.10431043 0.93079157 0.35342467 0.91371562 0.42811466]\n",
      "  [0.99264722 0.11433728 0.98269558 0.39808835 0.7671366 ]\n",
      "  [0.03573412 0.15966085 0.80482068 0.48848447 0.80772693]]]\n",
      "\n",
      " [[0.43878856 0.18974885 0.159269   0.96620052 0.65929655]\n",
      " [0.51244828 0.11817227 0.06393199 0.69408776 0.28441276]]\n"
     ]
    }
   ],
   "source": [
    "import numpy as np\n",
    "tensor = np.random.rand(3, 4, 5)\n",
    "print(tensor)\n",
    "subarray = tensor[1:3, 0, :]\n",
    "print(\"\\n\",subarray)"
   ]
  },
  {
   "cell_type": "code",
   "execution_count": 25,
   "id": "2f4e6f0f-c7e2-4c18-a62f-6a9421ef690f",
   "metadata": {},
   "outputs": [
    {
     "name": "stdout",
     "output_type": "stream",
     "text": [
      "[10 25 15 30 20 35  5]\n",
      "20.0\n",
      "[25 30 35]\n"
     ]
    }
   ],
   "source": [
    "import numpy as np\n",
    "data = np.array([10, 25, 15, 30, 20, 35, 5])\n",
    "print(data)\n",
    "mean = np.mean(data)\n",
    "print(mean)\n",
    "new_array = data[data > mean]\n",
    "print(new_array)"
   ]
  },
  {
   "cell_type": "code",
   "execution_count": 26,
   "id": "99f24892-e76a-43a2-ac1c-62d49f0220ac",
   "metadata": {},
   "outputs": [
    {
     "name": "stdout",
     "output_type": "stream",
     "text": [
      "[[36 40 36]\n",
      " [52 15 84]\n",
      " [26 41 42]\n",
      " [61 84 59]\n",
      " [73 73 43]]\n",
      "[[[36 40 36]\n",
      "  [52 15 84]\n",
      "  [26 41 42]\n",
      "  [61 84 59]\n",
      "  [73 73 43]]]\n"
     ]
    }
   ],
   "source": [
    "import numpy as np\n",
    "array = np.random.randint(1, 101, size=(5, 3))\n",
    "print(array)\n",
    "rows = array[np.sum(array[:, 1]) > 150]\n",
    "print(rows)"
   ]
  },
  {
   "cell_type": "code",
   "execution_count": null,
   "id": "39488271-1960-4837-9519-bed521541787",
   "metadata": {},
   "outputs": [],
   "source": []
  }
 ],
 "metadata": {
  "kernelspec": {
   "display_name": "Python 3 (ipykernel)",
   "language": "python",
   "name": "python3"
  },
  "language_info": {
   "codemirror_mode": {
    "name": "ipython",
    "version": 3
   },
   "file_extension": ".py",
   "mimetype": "text/x-python",
   "name": "python",
   "nbconvert_exporter": "python",
   "pygments_lexer": "ipython3",
   "version": "3.12.0"
  }
 },
 "nbformat": 4,
 "nbformat_minor": 5
}
