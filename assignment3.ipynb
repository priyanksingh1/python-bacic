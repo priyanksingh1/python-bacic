{
 "cells": [
  {
   "cell_type": "code",
   "execution_count": 14,
   "id": "820c6d3f-63ea-4881-b292-575f8e8402be",
   "metadata": {},
   "outputs": [
    {
     "name": "stdout",
     "output_type": "stream",
     "text": [
      "2 raised to the power of 3 is 8\n"
     ]
    }
   ],
   "source": [
    "'''1. Write a recursive function that accepts two numbers as its argument and returns its power.'''\n",
    "def power(base, exponent):\n",
    "    # Base case: if the exponent is 0, the result is 1\n",
    "    if exponent == 0:\n",
    "        return 1\n",
    "    # Recursive case: multiply base by power(base, exponent - 1)\n",
    "    else:\n",
    "        return base * power(base, exponent - 1)\n",
    "# Example usage:\n",
    "base = 2\n",
    "exponent = 3\n",
    "result = power(base, exponent)\n",
    "print(f\"{base} raised to the power of {exponent} is {result}\")"
   ]
  },
  {
   "cell_type": "code",
   "execution_count": 19,
   "id": "9f983dfe-5144-4565-8640-0d7fd7c44d2d",
   "metadata": {},
   "outputs": [
    {
     "name": "stdout",
     "output_type": "stream",
     "text": [
      "[1, 4, 9, 16, 25, 36, 49, 64, 81, 100, 121, 144, 169, 196, 225, 256, 289, 324, 361, 400, 441, 484, 529, 576, 625, 676, 729, 784, 841, 900]\n"
     ]
    }
   ],
   "source": [
    "''' 2. Write a Python function to create and print a list where the values are the squares of numbers between 1 and 30 (both included).'''\n",
    "\n",
    "def generate_squares():\n",
    "    squares = [num ** 2 for num in range(1, 31)]\n",
    "    return squares\n",
    "\n",
    "squared_list = generate_squares()\n",
    "print(squared_list)"
   ]
  },
  {
   "cell_type": "code",
   "execution_count": 20,
   "id": "b434105a-5bf9-4203-96f2-609234e49971",
   "metadata": {},
   "outputs": [
    {
     "name": "stdout",
     "output_type": "stream",
     "text": [
      "Current Date and Time: 2023-11-07 23:15:37.191216\n"
     ]
    }
   ],
   "source": [
    "'''3. Explore ‘time’ as well as ‘datetime’ module to perform the following tasks using time functions:\n",
    "        a. Print current date and time in Python'''\n",
    "import datetime\n",
    "\n",
    "# Get the current date and time\n",
    "current_datetime = datetime.datetime.now()\n",
    "\n",
    "# Print the current date and time\n",
    "print(\"Current Date and Time:\", current_datetime)\n"
   ]
  },
  {
   "cell_type": "code",
   "execution_count": 18,
   "id": "19d5806d-e4d8-49bc-a878-2d3537cd436a",
   "metadata": {},
   "outputs": [
    {
     "name": "stdout",
     "output_type": "stream",
     "text": [
      "Current Date: 2023-11-07\n",
      "5 days before Current Date: 2023-11-02\n"
     ]
    }
   ],
   "source": [
    "'''3. Explore ‘time’ as well as ‘datetime’ module to perform the following tasks using time functions:\n",
    "        b. Write a Python program to subtract five days from the current date.\n",
    "Sample Date:\n",
    "Current Date: 2015-06-22\n",
    "5 days before Current Date: 2015-06-17'''\n",
    "import datetime\n",
    "\n",
    "# Get the current date\n",
    "current_date = datetime.date.today()\n",
    "\n",
    "# Subtract five days\n",
    "five_days_ago = current_date - datetime.timedelta(days=5)\n",
    "\n",
    "# Print the current date and the date five days ago\n",
    "print(\"Current Date:\", current_date)\n",
    "print(\"5 days before Current Date:\", five_days_ago)\n"
   ]
  },
  {
   "cell_type": "code",
   "execution_count": 17,
   "id": "627f3fc1-239d-4a35-9182-fe65b7387ff5",
   "metadata": {},
   "outputs": [
    {
     "name": "stdout",
     "output_type": "stream",
     "text": [
      "Number of days between the two dates: 5\n"
     ]
    }
   ],
   "source": [
    "'''3. Explore ‘time’ as well as ‘datetime’ module to perform the following tasks using time functions:\n",
    "       c. Calculate number of days between two given date'''\n",
    "import datetime\n",
    "\n",
    "# Define two dates\n",
    "date1 = datetime.date(2023, 6, 22)\n",
    "date2 = datetime.date(2023, 6, 17)\n",
    "\n",
    "# Calculate the number of days between the two dates\n",
    "days_difference = (date1 - date2).days\n",
    "\n",
    "# Print the result\n",
    "print(\"Number of days between the two dates:\", days_difference)"
   ]
  },
  {
   "cell_type": "code",
   "execution_count": 16,
   "id": "069ad607-64f8-4b22-a46f-561024934c7e",
   "metadata": {},
   "outputs": [
    {
     "name": "stdout",
     "output_type": "stream",
     "text": [
      "Current Time in Milliseconds: 1699379115992\n"
     ]
    }
   ],
   "source": [
    "'''3.Explore ‘time’ as well as ‘datetime’ module to perform the following tasks using time functions:\n",
    "      d. Print current time in milliseconds.'''\n",
    "import time\n",
    "\n",
    "# Get the current time in milliseconds\n",
    "current_time_milliseconds = int(time.time() * 1000)\n",
    "\n",
    "# Print the current time in milliseconds\n",
    "print(\"Current Time in Milliseconds:\", current_time_milliseconds)"
   ]
  },
  {
   "cell_type": "code",
   "execution_count": 15,
   "id": "c64e4785-c8a0-4c47-ab87-e382db72eb36",
   "metadata": {},
   "outputs": [
    {
     "name": "stdout",
     "output_type": "stream",
     "text": [
      "Pausing the program for 5 seconds...\n",
      "Program has resumed.\n"
     ]
    }
   ],
   "source": [
    "'''3.Explore ‘time’ as well as ‘datetime’ module to perform the following tasks using time functions:\n",
    "      e. Write a program to Halt the program execution for the time specified.'''\n",
    "import time\n",
    "\n",
    "# Specify the time to pause the program in seconds\n",
    "pause_time = 5  # Pause for 5 seconds\n",
    "\n",
    "# Halt the program for the specified time\n",
    "print(f\"Pausing the program for {pause_time} seconds...\")\n",
    "time.sleep(pause_time)\n",
    "\n",
    "# Program resumes after the specified time\n",
    "print(\"Program has resumed.\")\n"
   ]
  },
  {
   "cell_type": "code",
   "execution_count": 12,
   "id": "a87582e5-638e-408b-97f1-2ad720487004",
   "metadata": {},
   "outputs": [
    {
     "name": "stdout",
     "output_type": "stream",
     "text": [
      "45 degrees is equal to 0.7853981633974483 radians\n",
      "0.7853981633974483 radians is equal to 45.0 degrees\n"
     ]
    }
   ],
   "source": [
    "'''4.Explore ‘math’ module to perform the following tasks using math functions:\n",
    "        a. Write a Python program to convert degrees to radians and vice-versa.''' \n",
    "import math\n",
    "\n",
    "# Convert degrees to radians\n",
    "degrees = 45\n",
    "radians = math.radians(degrees)\n",
    "print(f\"{degrees} degrees is equal to {radians} radians\")\n",
    "\n",
    "# Convert radians to degrees\n",
    "radians = math.pi / 4  # 45 degrees in radians\n",
    "degrees = math.degrees(radians)\n",
    "print(f\"{radians} radians is equal to {degrees} degrees\")\n"
   ]
  },
  {
   "cell_type": "code",
   "execution_count": 10,
   "id": "db4c6a42-98ba-44f6-a716-0848d208ede0",
   "metadata": {},
   "outputs": [
    {
     "name": "stdin",
     "output_type": "stream",
     "text": [
      "Enter the radius of the sphere:  5\n"
     ]
    },
    {
     "name": "stdout",
     "output_type": "stream",
     "text": [
      "Volume of the sphere: 523.60\n",
      "Surface area of the sphere: 314.16\n"
     ]
    }
   ],
   "source": [
    "'''4.Explore ‘math’ module to perform the following tasks using math functions:\n",
    "        b. Write a Python program to calculate surface volume and area of a sphere.'''\n",
    "import math\n",
    "\n",
    "def sphere_volume(radius):\n",
    "    volume = (4/3) * math.pi * radius**3\n",
    "    return volume\n",
    "\n",
    "def sphere_surface_area(radius):\n",
    "    area = 4 * math.pi * radius**2\n",
    "    return area\n",
    "\n",
    "# Input the radius of the sphere\n",
    "radius = float(input(\"Enter the radius of the sphere: \"))\n",
    "\n",
    "# Calculate and print the volume and surface area\n",
    "volume = sphere_volume(radius)\n",
    "area = sphere_surface_area(radius)\n",
    "\n",
    "print(f\"Volume of the sphere: {volume:.2f}\")\n",
    "print(f\"Surface area of the sphere: {area:.2f}\")\n"
   ]
  },
  {
   "cell_type": "code",
   "execution_count": 11,
   "id": "7838d0a1-431a-4d7f-9602-d30775b80acb",
   "metadata": {
    "scrolled": true
   },
   "outputs": [
    {
     "name": "stdout",
     "output_type": "stream",
     "text": [
      "The square root of 1 is 1.0\n",
      "The square root of 2 is 1.4142135623730951\n",
      "The square root of 3 is 1.7320508075688772\n",
      "The square root of 4 is 2.0\n",
      "The square root of 5 is 2.23606797749979\n",
      "The square root of 6 is 2.449489742783178\n",
      "The square root of 7 is 2.6457513110645907\n",
      "The square root of 8 is 2.8284271247461903\n",
      "The square root of 9 is 3.0\n",
      "The square root of 10 is 3.1622776601683795\n",
      "The square root of 11 is 3.3166247903554\n",
      "The square root of 12 is 3.4641016151377544\n",
      "The square root of 13 is 3.605551275463989\n",
      "The square root of 14 is 3.7416573867739413\n",
      "The square root of 15 is 3.872983346207417\n",
      "The square root of 16 is 4.0\n",
      "The square root of 17 is 4.123105625617661\n",
      "The square root of 18 is 4.242640687119285\n",
      "The square root of 19 is 4.358898943540674\n",
      "The square root of 20 is 4.47213595499958\n",
      "The square root of 21 is 4.58257569495584\n",
      "The square root of 22 is 4.69041575982343\n",
      "The square root of 23 is 4.795831523312719\n",
      "The square root of 24 is 4.898979485566356\n",
      "The square root of 25 is 5.0\n",
      "The square root of 26 is 5.0990195135927845\n",
      "The square root of 27 is 5.196152422706632\n",
      "The square root of 28 is 5.291502622129181\n",
      "The square root of 29 is 5.385164807134504\n",
      "The square root of 30 is 5.477225575051661\n",
      "The square root of 31 is 5.5677643628300215\n",
      "The square root of 32 is 5.656854249492381\n",
      "The square root of 33 is 5.744562646538029\n",
      "The square root of 34 is 5.830951894845301\n",
      "The square root of 35 is 5.916079783099616\n",
      "The square root of 36 is 6.0\n",
      "The square root of 37 is 6.082762530298219\n",
      "The square root of 38 is 6.164414002968976\n",
      "The square root of 39 is 6.244997998398398\n",
      "The square root of 40 is 6.324555320336759\n",
      "The square root of 41 is 6.4031242374328485\n",
      "The square root of 42 is 6.48074069840786\n",
      "The square root of 43 is 6.557438524302\n",
      "The square root of 44 is 6.6332495807108\n",
      "The square root of 45 is 6.708203932499369\n",
      "The square root of 46 is 6.782329983125268\n",
      "The square root of 47 is 6.855654600401044\n",
      "The square root of 48 is 6.928203230275509\n",
      "The square root of 49 is 7.0\n",
      "The square root of 50 is 7.0710678118654755\n",
      "The square root of 51 is 7.14142842854285\n",
      "The square root of 52 is 7.211102550927978\n",
      "The square root of 53 is 7.280109889280518\n",
      "The square root of 54 is 7.3484692283495345\n",
      "The square root of 55 is 7.416198487095663\n",
      "The square root of 56 is 7.483314773547883\n",
      "The square root of 57 is 7.54983443527075\n",
      "The square root of 58 is 7.615773105863909\n",
      "The square root of 59 is 7.681145747868608\n",
      "The square root of 60 is 7.745966692414834\n",
      "The square root of 61 is 7.810249675906654\n",
      "The square root of 62 is 7.874007874011811\n",
      "The square root of 63 is 7.937253933193772\n",
      "The square root of 64 is 8.0\n",
      "The square root of 65 is 8.06225774829855\n",
      "The square root of 66 is 8.12403840463596\n",
      "The square root of 67 is 8.18535277187245\n",
      "The square root of 68 is 8.246211251235321\n",
      "The square root of 69 is 8.306623862918075\n",
      "The square root of 70 is 8.366600265340756\n",
      "The square root of 71 is 8.426149773176359\n",
      "The square root of 72 is 8.48528137423857\n",
      "The square root of 73 is 8.54400374531753\n",
      "The square root of 74 is 8.602325267042627\n",
      "The square root of 75 is 8.660254037844387\n",
      "The square root of 76 is 8.717797887081348\n",
      "The square root of 77 is 8.774964387392123\n",
      "The square root of 78 is 8.831760866327848\n",
      "The square root of 79 is 8.888194417315589\n",
      "The square root of 80 is 8.94427190999916\n",
      "The square root of 81 is 9.0\n",
      "The square root of 82 is 9.055385138137417\n",
      "The square root of 83 is 9.1104335791443\n",
      "The square root of 84 is 9.16515138991168\n",
      "The square root of 85 is 9.219544457292887\n",
      "The square root of 86 is 9.273618495495704\n",
      "The square root of 87 is 9.327379053088816\n",
      "The square root of 88 is 9.38083151964686\n",
      "The square root of 89 is 9.433981132056603\n",
      "The square root of 90 is 9.486832980505138\n",
      "The square root of 91 is 9.539392014169456\n",
      "The square root of 92 is 9.591663046625438\n",
      "The square root of 93 is 9.643650760992955\n",
      "The square root of 94 is 9.695359714832659\n",
      "The square root of 95 is 9.746794344808963\n",
      "The square root of 96 is 9.797958971132712\n",
      "The square root of 97 is 9.848857801796104\n",
      "The square root of 98 is 9.899494936611665\n",
      "The square root of 99 is 9.9498743710662\n",
      "The square root of 100 is 10.0\n"
     ]
    }
   ],
   "source": [
    "'''4.Explore ‘math’ module to perform the following tasks using math functions:\n",
    "        c. Write a Python program to calculate the square roots of numbers between 1-100.'''\n",
    "import math\n",
    "# Calculate and print the square roots of numbers from 1 to 100\n",
    "for num in range(1, 101):\n",
    "    square_root = math.sqrt(num)\n",
    "    print(f\"The square root of {num} is {square_root}\")\n"
   ]
  },
  {
   "cell_type": "code",
   "execution_count": 3,
   "id": "93501440-e04e-4c81-a96d-58d101143cb6",
   "metadata": {},
   "outputs": [
    {
     "name": "stdout",
     "output_type": "stream",
     "text": [
      "z = |10 - 5| * (10 + 5) = 75\n"
     ]
    }
   ],
   "source": [
    "''' 4. Write a code to solve the equation z = |x − y| * (x + y).\n",
    "        a. Create an inner function to calculate the addition in the following way:\n",
    "        b. Create an outer function that will accept two parameters, a and b\n",
    "        c. Create an inner function inside an outer function that will calculate the addition of a and b'''\n",
    "\n",
    "def calculate_z(x, y):\n",
    "    def calculate_addition(a, b):\n",
    "        return a + b\n",
    "\n",
    "    z = abs(x - y) * calculate_addition(x, y)\n",
    "    return z\n",
    "\n",
    "x_value = 10\n",
    "y_value = 5\n",
    "result = calculate_z(x_value, y_value)\n",
    "print(f\"z = |{x_value} - {y_value}| * ({x_value} + {y_value}) = {result}\")"
   ]
  },
  {
   "cell_type": "code",
   "execution_count": 2,
   "id": "9d5fe203-7a68-404d-b65d-f3052d2e87ef",
   "metadata": {},
   "outputs": [
    {
     "name": "stdout",
     "output_type": "stream",
     "text": [
      "This is the original function.\n"
     ]
    }
   ],
   "source": [
    "'''6. Assign a different name to function and call it through the new name.'''\n",
    "\n",
    "def original_function():\n",
    "    print(\"This is the original function.\")\n",
    "new_function_name = original_function\n",
    "new_function_name()\n"
   ]
  },
  {
   "cell_type": "code",
   "execution_count": 2,
   "id": "5be2f8a8-a5a5-4012-9d4a-c4de5540a9cc",
   "metadata": {},
   "outputs": [
    {
     "name": "stdout",
     "output_type": "stream",
     "text": [
      "[4, 6, 8, 10, 12, 14, 16, 18, 20, 22, 24, 26, 28, 30]\n"
     ]
    }
   ],
   "source": [
    "'''7. Generate a Python list of all the even numbers between 4 to 30.'''\n",
    "\n",
    "even_numbers = [num for num in range(4, 31) if num % 2 == 0]\n",
    "print(even_numbers)"
   ]
  },
  {
   "cell_type": "code",
   "execution_count": 1,
   "id": "4442641a-498b-4b69-9246-306be7a4989c",
   "metadata": {},
   "outputs": [
    {
     "name": "stdout",
     "output_type": "stream",
     "text": [
      "The largest item in the list is: 70\n"
     ]
    }
   ],
   "source": [
    "'''8. Find the largest item from a given list.'''\n",
    "\n",
    "my_list = [10, 20, 30, 40, 50, 60, 70]\n",
    "largest_item = max(my_list)\n",
    "print(\"The largest item in the list is:\", largest_item)\n"
   ]
  },
  {
   "cell_type": "code",
   "execution_count": 1,
   "id": "1c2a2c50-3576-4d00-b3a5-731d3348fd59",
   "metadata": {},
   "outputs": [
    {
     "name": "stdout",
     "output_type": "stream",
     "text": [
      "['Hello Dear', 'Hello Sir', 'take Dear', 'take Sir']\n"
     ]
    }
   ],
   "source": [
    "'''9. Concatenate two lists in the following order:\n",
    "list1 = [\"Hello \", \"take \"]\n",
    "list2 = [\"Dear\", \"Sir\"]\n",
    "Expected Output:\n",
    "['Hello Dear', 'Hello Sir', 'take Dear', 'take Sir']'''\n",
    "\n",
    "list1 = [\"Hello \", \"take \"]\n",
    "list2 = [\"Dear\", \"Sir\"]\n",
    "result = [item1 + item2 for item1 in list1 for item2 in list2]\n",
    "print(result)"
   ]
  },
  {
   "cell_type": "code",
   "execution_count": 5,
   "id": "c7909461-24c6-4be1-8874-0f7e762cc28b",
   "metadata": {},
   "outputs": [
    {
     "name": "stdout",
     "output_type": "stream",
     "text": [
      "[10, 20, [300, 400, [5000, 6000, 7000], 500], 30, 40]\n"
     ]
    }
   ],
   "source": [
    "'''10. Write a program to add item 7000 after 6000 in the following Python List\n",
    "list1 = [10, 20, [300, 400, [5000, 6000], 500], 30, 40]'''\n",
    "# Original list\n",
    "list1 = [10, 20, [300, 400, [5000, 6000], 500], 30, 40]\n",
    "\n",
    "# Add item 7000 after 6000\n",
    "item_to_add = 7000\n",
    "\n",
    "# Find the innermost list containing 6000 and extend it\n",
    "for i, item in enumerate(list1):\n",
    "    if isinstance(item, list):\n",
    "        for j, subitem in enumerate(item):\n",
    "            if isinstance(subitem, list) and 6000 in subitem:\n",
    "                subitem.insert(subitem.index(6000) + 1, item_to_add)\n",
    "\n",
    "# Print the modified list\n",
    "print(list1)"
   ]
  },
  {
   "cell_type": "code",
   "execution_count": 4,
   "id": "768990cd-7151-490d-a855-09fabed86ea0",
   "metadata": {},
   "outputs": [
    {
     "name": "stdout",
     "output_type": "stream",
     "text": [
      "['a', 'b', ['c', ['d', 'e', ['f', 'g', 'h', 'i', 'j'], 'k'], 'l'], 'm', 'n']\n"
     ]
    }
   ],
   "source": [
    "'''11. You have given a nested list. Write a program to extend it by adding the sublist [\"h\", \"i\", \"j\"] in such a way that it will look like the following list.\n",
    "Expected Output:\n",
    "['a', 'b', ['c', ['d', 'e', ['f', 'g', 'h', 'i', 'j'], 'k'], 'l'], 'm', 'n']'''\n",
    "\n",
    "nested_list = ['a', 'b', ['c', ['d', 'e', ['f', 'g'], 'k'], 'l'], 'm', 'n']\n",
    "sublist_to_add = [\"h\", \"i\", \"j\"]\n",
    "nested_list[2][1][2].extend(sublist_to_add)\n",
    "print(nested_list)\n"
   ]
  }
 ],
 "metadata": {
  "kernelspec": {
   "display_name": "Python 3 (ipykernel)",
   "language": "python",
   "name": "python3"
  },
  "language_info": {
   "codemirror_mode": {
    "name": "ipython",
    "version": 3
   },
   "file_extension": ".py",
   "mimetype": "text/x-python",
   "name": "python",
   "nbconvert_exporter": "python",
   "pygments_lexer": "ipython3",
   "version": "3.12.0"
  }
 },
 "nbformat": 4,
 "nbformat_minor": 5
}
