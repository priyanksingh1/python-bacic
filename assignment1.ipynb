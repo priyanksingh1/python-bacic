{
 "cells": [
  {
   "cell_type": "code",
   "execution_count": 5,
   "id": "996003a7-d687-46e3-b861-64c6523cd4ac",
   "metadata": {},
   "outputs": [
    {
     "name": "stdout",
     "output_type": "stream",
     "text": [
      "lacitcarp nohtyp\n"
     ]
    }
   ],
   "source": [
    "'''1. Program that accepts a word from the user and reverse it.'''\n",
    "\n",
    "txt = \"python practical\"[::-1]\n",
    "print(txt)"
   ]
  },
  {
   "cell_type": "code",
   "execution_count": 6,
   "id": "4faf6a45-1d9e-436f-81b5-53ae321ecf18",
   "metadata": {},
   "outputs": [
    {
     "name": "stdin",
     "output_type": "stream",
     "text": [
      "enter the number: 43\n"
     ]
    },
    {
     "name": "stdout",
     "output_type": "stream",
     "text": [
      "43 is greater then 25\n"
     ]
    }
   ],
   "source": [
    "'''2. Check if the number taken from user is greater than 25 or not.'''\n",
    "\n",
    "n=eval(input(\"enter the number:\"))\n",
    "if(n>25):\n",
    "    print(n,\"is greater then 25\")\n",
    "elif(n==25):\n",
    "    print(n,\"is equal to 25\")\n",
    "else:\n",
    "    print(n,\"is not greater than 25\")"
   ]
  },
  {
   "cell_type": "code",
   "execution_count": 7,
   "id": "19a259d6-70b8-40be-85a1-a18bdccadf3e",
   "metadata": {},
   "outputs": [
    {
     "name": "stdin",
     "output_type": "stream",
     "text": [
      "Enter first number:  34\n",
      "Enter second number:  67\n",
      "Enter third number:  65\n"
     ]
    },
    {
     "name": "stdout",
     "output_type": "stream",
     "text": [
      "The largest number among  34 , 67 , 65 is : 67\n"
     ]
    }
   ],
   "source": [
    "''' 3. Program to take three numbers from user and check which is bigger.'''\n",
    "\n",
    "n1 = int(input(\"Enter first number: \"))\n",
    "n2 = int(input(\"Enter second number: \"))\n",
    "n3 = int(input(\"Enter third number: \"))\n",
    "\n",
    "if (n1 >= n2) and (n1 >= n3):\n",
    "   g = n1\n",
    "elif (n2 >= n1) and (n2 >= n3):\n",
    "   g = n2\n",
    "else:\n",
    "   g = n3\n",
    "print(\"The largest number among \",n1,\",\",n2,\",\",n3, \"is :\", g)"
   ]
  },
  {
   "cell_type": "code",
   "execution_count": 8,
   "id": "52e398a6-c98d-4f40-a6e3-3166617f155a",
   "metadata": {},
   "outputs": [
    {
     "name": "stdin",
     "output_type": "stream",
     "text": [
      "Enter the age: 20\n"
     ]
    },
    {
     "name": "stdout",
     "output_type": "stream",
     "text": [
      "person is eligible for vote \n"
     ]
    }
   ],
   "source": [
    "'''4. Program to check whether a person is eligible to vote or not (take age from user)'''\n",
    "\n",
    "age = int(input(\"Enter the age:\"))\n",
    "if (age >= 18):\n",
    "    print(\"person is eligible for vote \")\n",
    "else:\n",
    "    print(\"person is not eligible for vote\")"
   ]
  },
  {
   "cell_type": "code",
   "execution_count": 9,
   "id": "ecfab246-ef30-418e-b980-ad07eb44f007",
   "metadata": {},
   "outputs": [
    {
     "name": "stdin",
     "output_type": "stream",
     "text": [
      "Enter a number:  78\n"
     ]
    },
    {
     "name": "stdout",
     "output_type": "stream",
     "text": [
      "78 is Even\n"
     ]
    }
   ],
   "source": [
    "'''5. Program to check whether a number entered by user is even or odd.'''\n",
    "\n",
    "num = int(input(\"Enter a number: \"))\n",
    "if (num % 2) == 0:\n",
    "   print(num,\"is Even\")\n",
    "else:\n",
    "   print(num,\"is Odd\")"
   ]
  },
  {
   "cell_type": "code",
   "execution_count": 4,
   "id": "f272917c-9489-4caa-8959-dd951be5da00",
   "metadata": {},
   "outputs": [
    {
     "name": "stdin",
     "output_type": "stream",
     "text": [
      "Enter a number:  56\n"
     ]
    },
    {
     "name": "stdout",
     "output_type": "stream",
     "text": [
      "56 is not divisible by 3\n"
     ]
    }
   ],
   "source": [
    "''' 6. Program to check whether a number entered by user is divisible by 3 or not.'''\n",
    "\n",
    "num = int(input(\"Enter a number: \"))\n",
    "if (num % 3) == 0:\n",
    "    print (num,\"is divisible by 3\")\n",
    "else:\n",
    "    print(num, \"is not divisible by 3\")"
   ]
  },
  {
   "cell_type": "code",
   "execution_count": 3,
   "id": "1607cbf6-f2bf-41f1-9896-b8a144014523",
   "metadata": {},
   "outputs": [
    {
     "name": "stdin",
     "output_type": "stream",
     "text": [
      "Enter your percentage:  80\n"
     ]
    },
    {
     "name": "stdout",
     "output_type": "stream",
     "text": [
      "Your grade is: B\n"
     ]
    }
   ],
   "source": [
    "'''7. Write a program to accept percentage from the user/studentand display the grade according to the following criteria:\n",
    ">90 then grade A; >80 and <=90 then grade B; >=60 and <=80 then C and below 60 then D.'''\n",
    "# Accept the percentage from the user\n",
    "percentage = float(input(\"Enter your percentage: \"))\n",
    "\n",
    "# Determine the grade based on the percentage\n",
    "if percentage >= 90:\n",
    "    grade = \"A\"\n",
    "elif percentage >= 80:\n",
    "    grade = \"B\"\n",
    "elif percentage >= 60:\n",
    "    grade = \"C\"\n",
    "else:\n",
    "    grade = \"D\"\n",
    "\n",
    "# Display the grade\n",
    "print(f\"Your grade is: {grade}\")\n"
   ]
  },
  {
   "cell_type": "code",
   "execution_count": 10,
   "id": "ab4f5793-569a-4c82-9168-4e61fe6cfd93",
   "metadata": {},
   "outputs": [
    {
     "name": "stdout",
     "output_type": "stream",
     "text": [
      "The First 10 Natural Numbers\n",
      "1\n",
      "2\n",
      "3\n",
      "4\n",
      "5\n",
      "6\n",
      "7\n",
      "8\n",
      "9\n",
      "10\n"
     ]
    }
   ],
   "source": [
    "''' 8. Print the first 10 natural numbers using loop.'''\n",
    "\n",
    "print(\"The First 10 Natural Numbers\")\n",
    "for i in range(1, 11):\n",
    "    print(i)"
   ]
  },
  {
   "cell_type": "code",
   "execution_count": 11,
   "id": "887bc679-1b68-4a80-b96d-bca3a34bf2a2",
   "metadata": {},
   "outputs": [
    {
     "name": "stdout",
     "output_type": "stream",
     "text": [
      "Type of  1336  is  <class 'int'>\n",
      "Type of  hello  is  <class 'str'>\n",
      "Type of  34.5  is  <class 'float'>\n",
      "Type of  (6+7j)  is  <class 'complex'>\n",
      "Type of  True  is  <class 'bool'>\n",
      "Type of  {77, 23}  is  <class 'set'>\n",
      "Type of  (9, 10)  is  <class 'tuple'>\n"
     ]
    }
   ],
   "source": [
    "''' 9. Program that prints each item and it's type from the following list. Data = [1336, ‘hello’, 34.5, 6+ 7j, True, [23,77],(9,10)]'''\n",
    "\n",
    "Datalist = [1336, 'hello', 34.5, 6+ 7j, True, {23,77},(9,10)]\n",
    "for item in Datalist:\n",
    "   print(\"Type of \",item, \" is \", type(item))"
   ]
  },
  {
   "cell_type": "code",
   "execution_count": 13,
   "id": "645d2cc8-bee6-4f32-8d30-cef2bc5a4655",
   "metadata": {},
   "outputs": [
    {
     "name": "stdin",
     "output_type": "stream",
     "text": [
      "Enter lower limit:  2\n",
      "Enter upper limit:  7\n"
     ]
    },
    {
     "name": "stdout",
     "output_type": "stream",
     "text": [
      "Even numbers in the range are:\n",
      "2 4 6 "
     ]
    }
   ],
   "source": [
    "''' 10. Program to print all the even numbers within the given range. (take range from user)'''\n",
    "\n",
    "l=int(input(\"Enter lower limit: \"))\n",
    "u=int(input(\"Enter upper limit: \"))\n",
    "print(\"Even numbers in the range are:\")\n",
    "for i in range(l,u):\n",
    "    if i%2==0:\n",
    "        print(i,end=\" \")"
   ]
  },
  {
   "cell_type": "code",
   "execution_count": 14,
   "id": "f9ed297b-0cf3-4f2b-8126-87bdf4f9f7ac",
   "metadata": {},
   "outputs": [
    {
     "name": "stdout",
     "output_type": "stream",
     "text": [
      "1\n",
      "2\n",
      "fizz\n",
      "4\n",
      "buzz\n",
      "fizz\n",
      "7\n",
      "8\n",
      "fizz\n",
      "buzz\n",
      "11\n",
      "fizz\n",
      "13\n",
      "14\n",
      "fizzbuzz\n",
      "16\n",
      "17\n",
      "fizz\n",
      "19\n",
      "buzz\n",
      "fizz\n",
      "22\n",
      "23\n",
      "fizz\n",
      "buzz\n",
      "26\n",
      "fizz\n",
      "28\n",
      "29\n",
      "fizzbuzz\n",
      "31\n",
      "32\n",
      "fizz\n",
      "34\n",
      "buzz\n",
      "fizz\n",
      "37\n",
      "38\n",
      "fizz\n",
      "buzz\n",
      "41\n",
      "fizz\n",
      "43\n",
      "44\n",
      "fizzbuzz\n",
      "46\n",
      "47\n",
      "fizz\n",
      "49\n",
      "buzz\n"
     ]
    }
   ],
   "source": [
    "'''11. Program that iterates integers from 1 to 50.For mulƟples of 3 print \"fizz\" instead of the number and for multiples of 5\n",
    " print \"buzz\"and for numbers which are multiples of 3 and 5 both, print \"fizzbuzz\".'''\n",
    "\n",
    "for num in range(1, 51):\n",
    "    if num % 3 == 0 and num % 5 == 0:\n",
    "        print(\"fizzbuzz\")\n",
    "    elif num % 3 == 0:\n",
    "        print(\"fizz\")\n",
    "    elif num % 5 == 0:\n",
    "        print(\"buzz\")\n",
    "    else:\n",
    "        print(num)"
   ]
  },
  {
   "cell_type": "code",
   "execution_count": 16,
   "id": "d7702383-6af3-4a6b-a09e-52276610c7b3",
   "metadata": {},
   "outputs": [
    {
     "name": "stdin",
     "output_type": "stream",
     "text": [
      "Enter a number:  17\n"
     ]
    },
    {
     "name": "stdout",
     "output_type": "stream",
     "text": [
      "Multiplication table of 17\n",
      "17 x 1 = 17\n",
      "17 x 2 = 34\n",
      "17 x 3 = 51\n",
      "17 x 4 = 68\n",
      "17 x 5 = 85\n",
      "17 x 6 = 102\n",
      "17 x 7 = 119\n",
      "17 x 8 = 136\n",
      "17 x 9 = 153\n",
      "17 x 10 = 170\n"
     ]
    }
   ],
   "source": [
    "''' 12. Program to print a multiplication table of a given number.'''\n",
    "num = int(input(\"Enter a number: \"))\n",
    "len = 10\n",
    "print(f\"Multiplication table of {num}\")\n",
    "for i in range(1, len + 1):\n",
    "    pro = num * i\n",
    "    print(f\"{num} x {i} = {pro}\")\n"
   ]
  },
  {
   "cell_type": "code",
   "execution_count": 18,
   "id": "41309cab-f5fc-4598-8158-f079add05b1f",
   "metadata": {},
   "outputs": [
    {
     "name": "stdin",
     "output_type": "stream",
     "text": [
      "Enter the start of the range:  1\n",
      "Enter the end of the range:  76\n"
     ]
    },
    {
     "name": "stdout",
     "output_type": "stream",
     "text": [
      "The sum of odd numbers in the range from 1 to 76 is: 1444\n"
     ]
    }
   ],
   "source": [
    "'''13. Program to calculate the sum of all the odd numbers within the given range by user.'''\n",
    "\n",
    "start = int(input(\"Enter the start of the range: \"))\n",
    "end = int(input(\"Enter the end of the range: \"))\n",
    "sum = 0\n",
    "for num in range(start, end + 1):\n",
    "    if num % 2 != 0:\n",
    "        sum += num\n",
    "print(f\"The sum of odd numbers in the range from {start} to {end} is: {sum}\")"
   ]
  },
  {
   "cell_type": "code",
   "execution_count": 19,
   "id": "68ca8610-3979-488f-b5fa-a67073dcf063",
   "metadata": {},
   "outputs": [
    {
     "name": "stdout",
     "output_type": "stream",
     "text": [
      "0\n",
      "1\n",
      "2\n",
      "4\n",
      "5\n",
      "7\n",
      "8\n"
     ]
    }
   ],
   "source": [
    "'''14. Program to print all numbers from 0 to 9 except 3 ,6 and 9.'''\n",
    "\n",
    "for num in range(10):\n",
    "    if num in (3, 6, 9):\n",
    "        continue\n",
    "    print(num)"
   ]
  },
  {
   "cell_type": "code",
   "execution_count": 21,
   "id": "2e93b313-5cde-46ea-9665-ce6005f53501",
   "metadata": {},
   "outputs": [
    {
     "name": "stdout",
     "output_type": "stream",
     "text": [
      "Temperature Conversion Program\n",
      "1. C to F\n",
      "2. F to C\n"
     ]
    },
    {
     "name": "stdin",
     "output_type": "stream",
     "text": [
      "Enter your choice (1 or 2):  2\n",
      "Enter temperature in Fahrenheit:  104\n"
     ]
    },
    {
     "name": "stdout",
     "output_type": "stream",
     "text": [
      "104.0°F is equal to 40.0°C\n"
     ]
    }
   ],
   "source": [
    "''' 15. Program to convert temperatures to and from celsius, fahrenheit Celsius =(fahrenheit-32)*5/9 and fahrenheit= celsius*(9/5)+32  .'''\n",
    "\n",
    "def C_to_F(C):\n",
    "    F = (celsius * 9/5) + 32\n",
    "    return F\n",
    "\n",
    "def F_to_C(F):\n",
    "    C = (F - 32) * 5/9\n",
    "    return C\n",
    "\n",
    "print(\"Temperature Conversion Program\")\n",
    "print(\"1. C to F\")\n",
    "print(\"2. F to C\")\n",
    "\n",
    "choice = int(input(\"Enter your choice (1 or 2): \"))\n",
    "\n",
    "if choice == 1:\n",
    "    C = float(input(\"Enter temperature in Celsius: \"))\n",
    "    F = C_to_F(C)\n",
    "    print(f\"{C}°C is equal to {F}°F\")\n",
    "elif choice == 2:\n",
    "    F = float(input(\"Enter temperature in Fahrenheit: \"))\n",
    "    C = F_to_C(F)\n",
    "    print(f\"{F}°F is equal to {C}°C\")\n",
    "else:\n",
    "    print(\"Invalid choice. Please select 1 or 2.\")\n"
   ]
  },
  {
   "cell_type": "code",
   "execution_count": 22,
   "id": "f0f7096d-814e-45a8-bf94-1b1ae3da03c2",
   "metadata": {},
   "outputs": [
    {
     "name": "stdout",
     "output_type": "stream",
     "text": [
      "0 1 1 2 3 5 8 13 21 34 "
     ]
    }
   ],
   "source": [
    "'''16. Program to get the Fibonacci series between 0 to 50.  (Fibonacci series: 0,1,1,2,3,5,..) '''\n",
    "# Initialize the first two numbers in the Fibonacci series\n",
    "a, b = 0, 1\n",
    "print(a, end=\" \")\n",
    "while b <= 50: #replace\n",
    "    print(b, end=\" \")\n",
    "    a, b = b, a + b\n"
   ]
  },
  {
   "cell_type": "code",
   "execution_count": 13,
   "id": "c9655e69-dd32-4e26-b15a-f19f3bcc5297",
   "metadata": {},
   "outputs": [
    {
     "name": "stdin",
     "output_type": "stream",
     "text": [
      "Enter a single alphabet:  D\n"
     ]
    },
    {
     "name": "stdout",
     "output_type": "stream",
     "text": [
      "D  is a consonant.\n"
     ]
    }
   ],
   "source": [
    "'''17. Program to check whether a alphabet is vowel or  consonant.'''\n",
    "# Accept an alphabet from the user\n",
    "alphabet = input(\"Enter a single alphabet: \")\n",
    "\n",
    "# Convert the input to lowercase to handle both uppercase and lowercase input\n",
    "#alphabet = alphabet.lower()\n",
    "\n",
    "# Check if the input is a single alphabet\n",
    "if alphabet.isalpha() and len(alphabet) == 1:\n",
    "    if alphabet in \"a,e,i,o,u,A,E,I,O,U\":\n",
    "        print(alphabet,\" is a vowel.\")\n",
    "    else:\n",
    "        print(alphabet,\" is a consonant.\")\n",
    "else:\n",
    "    print(\"Please enter a single alphabet.\")"
   ]
  },
  {
   "cell_type": "code",
   "execution_count": 1,
   "id": "e77288cb-094a-430f-a5e0-fbc83db2c4a6",
   "metadata": {},
   "outputs": [
    {
     "name": "stdin",
     "output_type": "stream",
     "text": [
      "enter numer 1: 56\n",
      "enter number2: 537\n"
     ]
    },
    {
     "name": "stdout",
     "output_type": "stream",
     "text": [
      "The sum is: 593\n"
     ]
    }
   ],
   "source": [
    "'''18. Program to get sum of 2 integers but if it is between 15 to  20 return 20.'''\n",
    "def sum_within_range(a, b):\n",
    "    # Calculate the sum of the two integers\n",
    "    total = a + b\n",
    "\n",
    "    # Check if the sum is between 15 and 20 (inclusive)\n",
    "    if 15 <= total <= 20:\n",
    "        return 20\n",
    "    else:\n",
    "        return total\n",
    "\n",
    "# Example usage:\n",
    "num1 = int(input(\"enter numer 1:\"))\n",
    "num2 = int(input(\"enter number2:\"))\n",
    "\n",
    "result = sum_within_range(num1, num2)\n",
    "print(f\"The sum is: {result}\")"
   ]
  },
  {
   "cell_type": "code",
   "execution_count": 38,
   "id": "60df95d9-bf42-4411-a45e-55143ce8642a",
   "metadata": {},
   "outputs": [
    {
     "name": "stdin",
     "output_type": "stream",
     "text": [
      "Enter an integer (0 to finish):  1\n",
      "Enter an integer (0 to finish):  20\n",
      "Enter an integer (0 to finish):  0\n"
     ]
    },
    {
     "name": "stdout",
     "output_type": "stream",
     "text": [
      "Sum of the entered integers: 21\n",
      "Average of the entered integers: 10.5\n"
     ]
    }
   ],
   "source": [
    "'''19. Program to calculate the sum and average of n integers.  (input 0 to finish)  '''\n",
    "\n",
    "sum = 0\n",
    "n = 0\n",
    "while True:\n",
    "    num = int(input(\"Enter an integer (0 to finish): \"))\n",
    "    if num == 0:\n",
    "        break\n",
    "        \n",
    "    sum += num\n",
    "    n += 1\n",
    "\n",
    "if n > 0:\n",
    "    average = sum / n\n",
    "else:\n",
    "    average = 0\n",
    "\n",
    "print(f\"Sum of the entered integers: {sum}\")\n",
    "print(f\"Average of the entered integers: {average}\")\n"
   ]
  },
  {
   "cell_type": "code",
   "execution_count": 42,
   "id": "c84c0183-0a6f-43b5-b475-8de03419a92d",
   "metadata": {},
   "outputs": [
    {
     "name": "stdin",
     "output_type": "stream",
     "text": [
      "enter the end number 1500\n",
      "enter the end number 2700\n"
     ]
    },
    {
     "name": "stdout",
     "output_type": "stream",
     "text": [
      "1505\n",
      "1540\n",
      "1575\n",
      "1610\n",
      "1645\n",
      "1680\n",
      "1715\n",
      "1750\n",
      "1785\n",
      "1820\n",
      "1855\n",
      "1890\n",
      "1925\n",
      "1960\n",
      "1995\n",
      "2030\n",
      "2065\n",
      "2100\n",
      "2135\n",
      "2170\n",
      "2205\n",
      "2240\n",
      "2275\n",
      "2310\n",
      "2345\n",
      "2380\n",
      "2415\n",
      "2450\n",
      "2485\n",
      "2520\n",
      "2555\n",
      "2590\n",
      "2625\n",
      "2660\n",
      "2695\n"
     ]
    }
   ],
   "source": [
    "'''20. Program to find numbers which are divisible by 7 and  mulƟple of 5, between 1500 and 2700 (both included).'''\n",
    "# Define the range\n",
    "start = int(input(\"enter the end number\"))\n",
    "end = int(input(\"enter the end number\"))\n",
    "\n",
    "# Iterate through the numbers in the range\n",
    "for number in range(start, end + 1):\n",
    "    # Check if the number is divisible by 7 and a multiple of 5\n",
    "    if number % 7 == 0 and number % 5 == 0:\n",
    "        print(number, end=\"\\n\")"
   ]
  },
  {
   "cell_type": "code",
   "execution_count": 46,
   "id": "03bbdd67-eee7-4324-a2f3-44e55b36a5ba",
   "metadata": {},
   "outputs": [
    {
     "name": "stdin",
     "output_type": "stream",
     "text": [
      "Enter the number of rows:  6\n"
     ]
    },
    {
     "name": "stdout",
     "output_type": "stream",
     "text": [
      "1 \n",
      "2 2 \n",
      "3 3 3 \n",
      "4 4 4 4 \n",
      "5 5 5 5 5 \n",
      "6 6 6 6 6 6 \n"
     ]
    }
   ],
   "source": [
    "'''21. Program construct the paƩern of numbers, using nested  loop.  \n",
    "Enter Number of row : 6  \n",
    "1  \n",
    "22  \n",
    "333  \n",
    "4444  \n",
    "55555  \n",
    "666666 '''\n",
    "# Get the number of rows from the user\n",
    "num_rows = int(input(\"Enter the number of rows: \"))\n",
    "\n",
    "# Use nested loops to construct the pattern\n",
    "for i in range(1, num_rows + 1):\n",
    "    for j in range(1, i + 1):\n",
    "        print(i, end=\" \")\n",
    "    print() "
   ]
  }
 ],
 "metadata": {
  "kernelspec": {
   "display_name": "Python 3 (ipykernel)",
   "language": "python",
   "name": "python3"
  },
  "language_info": {
   "codemirror_mode": {
    "name": "ipython",
    "version": 3
   },
   "file_extension": ".py",
   "mimetype": "text/x-python",
   "name": "python",
   "nbconvert_exporter": "python",
   "pygments_lexer": "ipython3",
   "version": "3.12.0"
  }
 },
 "nbformat": 4,
 "nbformat_minor": 5
}
