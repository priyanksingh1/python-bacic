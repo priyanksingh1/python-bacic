{
 "cells": [
  {
   "cell_type": "code",
   "execution_count": 2,
   "id": "84db524c-ebba-4ed6-b885-cbbe9c487c82",
   "metadata": {},
   "outputs": [
    {
     "name": "stdout",
     "output_type": "stream",
     "text": [
      "The maximum of 10, 25, and 15 is : 25\n"
     ]
    }
   ],
   "source": [
    "'''1. Write a Python function to find the maximum of three numbers.'''\n",
    "def find_maximum(a, b, c):\n",
    "    max_number = a  # Assume a is the maximum\n",
    "\n",
    "    # Compare a with b and c to find the maximum\n",
    "    if b > max_number:\n",
    "        max_number = b\n",
    "    if c > max_number:\n",
    "        max_number = c\n",
    "\n",
    "    return max_number\n",
    "\n",
    "# Example usage:\n",
    "num1 = 10\n",
    "num2 = 25\n",
    "num3 = 15\n",
    "\n",
    "maximum = find_maximum(num1, num2, num3)\n",
    "print(f\"The maximum of {num1}, {num2}, and {num3} is : {maximum}\")"
   ]
  },
  {
   "cell_type": "code",
   "execution_count": 4,
   "id": "7c7fef60-830c-4c82-b840-676051200009",
   "metadata": {},
   "outputs": [
    {
     "name": "stdout",
     "output_type": "stream",
     "text": [
      "The factorial of 5 is 120\n"
     ]
    }
   ],
   "source": [
    "'''2. Write a Python function to calculate the factorial of a number (a non-negative integer). The function accepts the number as an argument.'''\n",
    "def factorial(n):\n",
    "    # Base case: Factorial of 0 is 1\n",
    "    if n == 0:\n",
    "        return 1\n",
    "    # Recursive case: Factorial of n is n times factorial of (n-1)\n",
    "    else:\n",
    "        return n * factorial(n - 1)\n",
    "\n",
    "# Example usage:\n",
    "number = 5\n",
    "result = factorial(number)\n",
    "print(f\"The factorial of {number} is {result}\")\n"
   ]
  },
  {
   "cell_type": "code",
   "execution_count": 8,
   "id": "733dd5a7-bd51-460c-992a-1ca4b54914fe",
   "metadata": {},
   "outputs": [
    {
     "name": "stdout",
     "output_type": "stream",
     "text": [
      "7 is within the range [1, 10]\n"
     ]
    }
   ],
   "source": [
    "'''3. Write a Python function to check whether a number falls within a given range.'''\n",
    "def is_within_range(number, minimum, maximum):\n",
    "    if minimum <= number <= maximum:\n",
    "        return True\n",
    "    else:\n",
    "        return False\n",
    "\n",
    "# Example usage:\n",
    "num = 7\n",
    "min_range = 1\n",
    "max_range = 10\n",
    "\n",
    "if is_within_range(num, min_range, max_range):\n",
    "    print(f\"{num} is within the range [{min_range}, {max_range}]\")\n",
    "else:\n",
    "    print(f\"{num} is not within the range [{min_range}, {max_range}]\")"
   ]
  },
  {
   "cell_type": "code",
   "execution_count": 6,
   "id": "52a2d46b-660b-4cd2-af92-db181f1a14e5",
   "metadata": {},
   "outputs": [
    {
     "name": "stdout",
     "output_type": "stream",
     "text": [
      "No. of Upper case characters: (3, 12)\n",
      "No. of Lower case Characters: (3, 12)\n"
     ]
    }
   ],
   "source": [
    "'''4. Write a Python function that accepts a string and counts the number of upper and lower case letters.\n",
    "Sample String: 'The quick Brow Fox'\n",
    "Expected Output:\n",
    "No. of Upper case characters: 3\n",
    "No. of Lower case Characters : 12'''\n",
    "def count_upper_lower_case(string):\n",
    "    upper_count = 0\n",
    "    lower_count = 0\n",
    "\n",
    "    for char in string:\n",
    "        if char.isupper():\n",
    "            upper_count += 1\n",
    "        elif char.islower():\n",
    "            lower_count += 1\n",
    "\n",
    "    return upper_count, lower_count\n",
    "\n",
    "# Example usage:\n",
    "sample_string = 'The quick Brow Fox'\n",
    "upper_count = count_upper_lower_case(sample_string)\n",
    "lower_count = count_upper_lower_case(sample_string)\n",
    "\n",
    "print(\"No. of Upper case characters:\" ,upper_count)\n",
    "print(\"No. of Lower case Characters:\" ,lower_count)"
   ]
  },
  {
   "cell_type": "code",
   "execution_count": 4,
   "id": "d195bbb1-e8c9-4219-a5ac-a6a24523c5ac",
   "metadata": {},
   "outputs": [
    {
     "name": "stdout",
     "output_type": "stream",
     "text": [
      "17 is a prime number.\n"
     ]
    }
   ],
   "source": [
    "''' 5. Write a Python function that takes a number as a parameter and checks whether the number is prime or not.\n",
    "Note: A prime number (or a prime) is a natural number greater than 1 and that has no positive divisors other than 1 and itself.'''\n",
    "def is_prime(number):\n",
    "    if number <= 1:\n",
    "        return False  # Numbers less than or equal to 1 are not prime\n",
    "\n",
    "    for i in range(2, int(number**0.5) + 1):\n",
    "        if number % i == 0:\n",
    "            return False  # Found a divisor, not prime\n",
    "    return True\n",
    "# Example usage:\n",
    "num = 17  # Replace\n",
    "\n",
    "if is_prime(num):\n",
    "    print(num, \"is a prime number.\")\n",
    "else:\n",
    "    print(num, \"is not a prime number.\")\n"
   ]
  },
  {
   "cell_type": "code",
   "execution_count": 3,
   "id": "08796c06-3cb1-44a3-aec1-ccb97da0c82e",
   "metadata": {},
   "outputs": [
    {
     "name": "stdout",
     "output_type": "stream",
     "text": [
      "numun  is a palindrome.\n"
     ]
    }
   ],
   "source": [
    "'''6. Write a Python function that checks whether a passed string is a palindrome or not.\n",
    "Note: A palindrome is a word, phrase, or sequence that reads the same backward as forward, e.g., madam or nurses run or pop.'''\n",
    "def is_palindrome(input_string):\n",
    "    # Remove spaces and convert to lowercase for case-insensitive comparison\n",
    "    input_string = input_string.replace(\" \", \" \").lower()\n",
    "    \n",
    "    # Compare the string with its reverse\n",
    "    return input_string == input_string[::-1]\n",
    "\n",
    "# Example usage:\n",
    "sample_string = \"numun\"  # Replace\n",
    "if is_palindrome(sample_string):\n",
    "    print(sample_string, \" is a palindrome.\")\n",
    "else:\n",
    "    print(sample_string, \"is not a palindrome.\")\n"
   ]
  },
  {
   "cell_type": "code",
   "execution_count": 7,
   "id": "358e7388-8194-46ad-b58f-3da517d19fb3",
   "metadata": {},
   "outputs": [
    {
     "name": "stdout",
     "output_type": "stream",
     "text": [
      "Number of local variables in the function: 3\n"
     ]
    }
   ],
   "source": [
    "'''7. Write a Python program to detect the number of local variables declared in a function.'''\n",
    "def count_local_variables():\n",
    "    # Define some local variables\n",
    "    var1 = \"Hello\"\n",
    "    var2 = 42\n",
    "    var3 = [1, 2, 3]\n",
    "    \n",
    "    # Use the locals() function to access local variables\n",
    "    local_vars = locals()\n",
    "    \n",
    "    # Count the local variables (excluding function arguments)\n",
    "    count = sum(1 for var in local_vars if var != 'count_local_variables')\n",
    "    return count\n",
    "\n",
    "# Call the function to count local variables\n",
    "num_local_vars = count_local_variables()\n",
    "print(f\"Number of local variables in the function: {num_local_vars}\")"
   ]
  }
 ],
 "metadata": {
  "kernelspec": {
   "display_name": "Python 3 (ipykernel)",
   "language": "python",
   "name": "python3"
  },
  "language_info": {
   "codemirror_mode": {
    "name": "ipython",
    "version": 3
   },
   "file_extension": ".py",
   "mimetype": "text/x-python",
   "name": "python",
   "nbconvert_exporter": "python",
   "pygments_lexer": "ipython3",
   "version": "3.12.0"
  }
 },
 "nbformat": 4,
 "nbformat_minor": 5
}
