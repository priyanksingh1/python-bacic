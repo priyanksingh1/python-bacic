{
 "cells": [
  {
   "cell_type": "code",
   "execution_count": 1,
   "id": "78f1b0e6-adb0-4928-be1c-2679ac3b450f",
   "metadata": {},
   "outputs": [
    {
     "name": "stdout",
     "output_type": "stream",
     "text": [
      "The second largest number is: 61\n"
     ]
    }
   ],
   "source": [
    "'''1. Write a Python program to get the second largest number from a list.'''\n",
    "# Sample list of numbers\n",
    "numbers = [12, 45, 89, 24, 50, 7, 61, 38]\n",
    "\n",
    "# Find the second largest number\n",
    "if len(numbers) < 2:\n",
    "    print(\"The list doesn't have a second largest number.\")\n",
    "else:\n",
    "    largest = second_largest = float('-inf')\n",
    "\n",
    "    for num in numbers:\n",
    "        if num > largest:\n",
    "            second_largest = largest\n",
    "            largest = num\n",
    "        elif num > second_largest and num != largest:\n",
    "            second_largest = num\n",
    "\n",
    "    if second_largest == float('-inf'):\n",
    "        print(\"There is no second largest number.\")\n",
    "    else:\n",
    "        print(\"The second largest number is:\", second_largest)\n"
   ]
  },
  {
   "cell_type": "code",
   "execution_count": 2,
   "id": "7115d016-804b-4af8-b44f-a3e76b8d7b4f",
   "metadata": {},
   "outputs": [
    {
     "name": "stdout",
     "output_type": "stream",
     "text": [
      "Original List: [1, 2, 2, 3, 4, 4, 5, 6, 6]\n",
      "List with Duplicates Removed: [1, 2, 3, 4, 5, 6]\n"
     ]
    }
   ],
   "source": [
    "'''2. Write a program to remove all the duplicate elements from list.'''\n",
    "# Sample list with duplicates\n",
    "my_list = [1, 2, 2, 3, 4, 4, 5, 6, 6]\n",
    "\n",
    "# Remove duplicates while preserving the order\n",
    "unique_list = []\n",
    "for item in my_list:\n",
    "    if item not in unique_list:\n",
    "        unique_list.append(item)\n",
    "print(\"Original List:\", my_list)\n",
    "print(\"List with Duplicates Removed:\", unique_list)"
   ]
  },
  {
   "cell_type": "code",
   "execution_count": 3,
   "id": "d2414cf1-fc74-49d3-bec9-2dff3d89e2b9",
   "metadata": {},
   "outputs": [
    {
     "name": "stdout",
     "output_type": "stream",
     "text": [
      "List with the highest sum: [11, 12, 13, 14]\n",
      "Sum of elements: 50\n"
     ]
    }
   ],
   "source": [
    "'''3. Write a Python program to find the list in a list of lists whose sum of elements is the highest.'''\n",
    "def find_list_with_highest_sum(list_of_lists):\n",
    "    max_sum = float('-inf')  # Initialize with negative infinity\n",
    "    result_list = None\n",
    "\n",
    "    for sub_list in list_of_lists:\n",
    "        current_sum = sum(sub_list)\n",
    "        if current_sum > max_sum:\n",
    "            max_sum = current_sum\n",
    "            result_list = sub_list\n",
    "\n",
    "    return result_list\n",
    "\n",
    "# Sample list of lists\n",
    "lists = [[1, 2, 3], [4, 5, 6, 7], [8, 9, 10], [11, 12, 13, 14]]\n",
    "\n",
    "# Find the list with the highest sum\n",
    "list_with_highest_sum = find_list_with_highest_sum(lists)\n",
    "\n",
    "if list_with_highest_sum is not None:\n",
    "    print(\"List with the highest sum:\", list_with_highest_sum)\n",
    "    print(\"Sum of elements:\", sum(list_with_highest_sum))\n",
    "else:\n",
    "    print(\"No lists in the list of lists.\")\n"
   ]
  },
  {
   "cell_type": "code",
   "execution_count": 4,
   "id": "fcf4c6dc-faf8-4f89-ada1-e057e6d8240a",
   "metadata": {},
   "outputs": [
    {
     "name": "stdout",
     "output_type": "stream",
     "text": [
      "Concatenated Dictionary: {1: 100, 2: 200, 3: 300, 4: 400, 5: 500, 6: 600}\n"
     ]
    }
   ],
   "source": [
    "'''4. Write a Python program to concatenate following dictionaries to create a new one.\n",
    "d1={1:100, 2:200}\n",
    "d2={3:300, 4:400}\n",
    "d3={5:500, 6:600}'''\n",
    "# Define the input dictionaries\n",
    "d1 = {1: 100, 2: 200}\n",
    "d2 = {3: 300, 4: 400}\n",
    "d3 = {5: 500, 6: 600}\n",
    "\n",
    "# Create a new dictionary by concatenating the input dictionaries\n",
    "concatenated_dict = {}\n",
    "concatenated_dict.update(d1)\n",
    "concatenated_dict.update(d2)\n",
    "concatenated_dict.update(d3)\n",
    "\n",
    "print(\"Concatenated Dictionary:\", concatenated_dict)\n"
   ]
  },
  {
   "cell_type": "code",
   "execution_count": 6,
   "id": "bbe3b3df-7276-4f11-a2fe-1d3f240c6d8e",
   "metadata": {},
   "outputs": [
    {
     "name": "stdout",
     "output_type": "stream",
     "text": [
      "The key 'b' exists in the dictionary.\n"
     ]
    }
   ],
   "source": [
    "'''5. Write a Python program to check if a given key already exists in a dictionary.'''\n",
    "# Sample dictionary\n",
    "my_dict = {'a': 1, 'b': 2, 'c': 3}\n",
    "key_check = 'b'\n",
    "if key_check in my_dict:\n",
    "    print(f\"The key '{key_check}' exists in the dictionary.\")\n",
    "else:\n",
    "    print(f\"The key '{key_check}' does not exist in the dictionary.\")\n"
   ]
  },
  {
   "cell_type": "code",
   "execution_count": 9,
   "id": "84d66ed2-01f1-4f0f-b2de-bc5635246fda",
   "metadata": {},
   "outputs": [
    {
     "name": "stdout",
     "output_type": "stream",
     "text": [
      "Original Dictionary: {'a': 1, 'b': 2, 'c': 1, 'd': 3, 'e': 2, 'f': 4}\n",
      "Dictionary with Duplicate Values Removed: {'a': 1, 'b': 2, 'd': 3, 'f': 4}\n"
     ]
    }
   ],
   "source": [
    "'''6. Write a Python program to remove duplicate values from Dictionary.'''\n",
    "# Original dictionary with duplicate values\n",
    "original_dict = {\n",
    "    'a': 1,\n",
    "    'b': 2,\n",
    "    'c': 1,\n",
    "    'd': 3,\n",
    "    'e': 2,\n",
    "    'f': 4\n",
    "}\n",
    "# Create a new dictionary with unique values\n",
    "unique_dict = {}\n",
    "seen_values = set()\n",
    "for key, value in original_dict.items():\n",
    "    if value not in seen_values:\n",
    "        unique_dict[key] = value\n",
    "        seen_values.add(value)\n",
    "\n",
    "print(\"Original Dictionary:\", original_dict)\n",
    "print(\"Dictionary with Duplicate Values Removed:\", unique_dict)"
   ]
  },
  {
   "cell_type": "code",
   "execution_count": 8,
   "id": "7519c5b8-baf2-49c6-94aa-6141682e3af1",
   "metadata": {},
   "outputs": [
    {
     "name": "stdout",
     "output_type": "stream",
     "text": [
      "1: 1\n",
      "2: 4\n",
      "3: 9\n",
      "4: 16\n",
      "5: 25\n",
      "6: 36\n",
      "7: 49\n",
      "8: 64\n",
      "9: 81\n",
      "10: 100\n",
      "11: 121\n",
      "12: 144\n",
      "13: 169\n",
      "14: 196\n",
      "15: 225\n"
     ]
    }
   ],
   "source": [
    "'''7. Write a Python script to print a dictionary where the keys are numbers between 1 and 15 (both included) and the values are square of keys.'''\n",
    "# Create a dictionary with keys as numbers and values as squares of the keys\n",
    "squares_dict = {num: num ** 2 for num in range(1, 16)}\n",
    "# Print the dictionary\n",
    "for key, value in squares_dict.items():\n",
    "    print(f\"{key}: {value}\")\n"
   ]
  },
  {
   "cell_type": "code",
   "execution_count": 10,
   "id": "1a9fb1df-b28e-4940-af0a-fff704b3630a",
   "metadata": {},
   "outputs": [
    {
     "name": "stdout",
     "output_type": "stream",
     "text": [
      "1 appears 1 times.\n",
      "2 appears 3 times.\n",
      "3 appears 1 times.\n",
      "4 appears 3 times.\n",
      "5 appears 1 times.\n",
      "6 appears 2 times.\n"
     ]
    }
   ],
   "source": [
    "'''8. Write a program to determine frequency of number in a list of numbers.'''\n",
    "def count_frequency(numbers):\n",
    "    frequency = {}\n",
    "    for num in numbers:\n",
    "        if num in frequency:\n",
    "            frequency[num] += 1\n",
    "        else:\n",
    "            frequency[num] = 1\n",
    "    return frequency\n",
    "\n",
    "# Sample list of numbers\n",
    "numbers = [1, 2, 2, 3, 4, 4, 5, 6, 6, 2, 4]\n",
    "\n",
    "# Count the frequency of each number in the list\n",
    "number_frequency = count_frequency(numbers)\n",
    "\n",
    "# Print the frequency of each number\n",
    "for num, freq in number_frequency.items():\n",
    "    print(f\"{num} appears {freq} times.\")"
   ]
  },
  {
   "cell_type": "code",
   "execution_count": 13,
   "id": "09563944-0b8c-4908-979c-d0e9c6a945ce",
   "metadata": {},
   "outputs": [
    {
     "name": "stdin",
     "output_type": "stream",
     "text": [
      "Enter the starting range:  1\n",
      "Enter the ending range:  10\n"
     ]
    },
    {
     "name": "stdout",
     "output_type": "stream",
     "text": [
      "Prime numbers in the range 1 to 10:\n",
      "2\n",
      "3\n",
      "5\n",
      "7\n"
     ]
    }
   ],
   "source": [
    "'''9. Write a Python program to find all prime numbers between given range using functions.'''\n",
    "def is_prime(num):\n",
    "    if num <= 1:\n",
    "        return False\n",
    "    if num <= 3:\n",
    "        return True\n",
    "    if num % 2 == 0 or num % 3 == 0:\n",
    "        return False\n",
    "    i = 5\n",
    "    while i * i <= num:\n",
    "        if num % i == 0 or num % (i + 2) == 0:\n",
    "            return False\n",
    "        i += 6\n",
    "    return True\n",
    "\n",
    "def find_prime_numbers(start, end):\n",
    "    prime_numbers = []\n",
    "    for number in range(start, end + 1):\n",
    "        if is_prime(number):\n",
    "            prime_numbers.append(number)\n",
    "    return prime_numbers\n",
    "\n",
    "# Input range from the user\n",
    "start_range = int(input(\"Enter the starting range: \"))\n",
    "end_range = int(input(\"Enter the ending range: \"))\n",
    "\n",
    "prime_numbers_in_range = find_prime_numbers(start_range, end_range)\n",
    "\n",
    "if prime_numbers_in_range:\n",
    "    print(\"Prime numbers in the range {} to {}:\".format(start_range, end_range))\n",
    "    for number in prime_numbers_in_range:\n",
    "        print(number)\n",
    "else:\n",
    "    print(\"No prime numbers found in the range {} to {}.\".format(start_range, end_range))"
   ]
  },
  {
   "cell_type": "code",
   "execution_count": 41,
   "id": "cb23531d-f7c1-4894-8d4b-4f4eb61d29d2",
   "metadata": {},
   "outputs": [
    {
     "name": "stdin",
     "output_type": "stream",
     "text": [
      "Enter the starting range:  1\n",
      "Enter the ending range:  100\n"
     ]
    },
    {
     "name": "stdout",
     "output_type": "stream",
     "text": [
      "Armstrong numbers in the range 1 to 100:\n",
      "1\n",
      "2\n",
      "3\n",
      "4\n",
      "5\n",
      "6\n",
      "7\n",
      "8\n",
      "9\n"
     ]
    }
   ],
   "source": [
    "'''10. Write a Python program to print all Armstrong numbers between given range using functions.'''\n",
    "def is_armstrong_number(num):\n",
    "    num_str = str(num)\n",
    "    power = len(num_str)\n",
    "    sum_of_powers = sum(int(digit) ** power for digit in num_str)\n",
    "    return num == sum_of_powers\n",
    "\n",
    "def find_armstrong_numbers(start, end):\n",
    "    armstrong_numbers = []\n",
    "    for number in range(start, end + 1):\n",
    "        if is_armstrong_number(number):\n",
    "            armstrong_numbers.append(number)\n",
    "    return armstrong_numbers\n",
    "\n",
    "# Input range from the user\n",
    "start_range = int(input(\"Enter the starting range: \"))\n",
    "end_range = int(input(\"Enter the ending range: \"))\n",
    "\n",
    "armstrong_numbers_in_range = find_armstrong_numbers(start_range, end_range)\n",
    "\n",
    "if armstrong_numbers_in_range:\n",
    "    print(\"Armstrong numbers in the range {} to {}:\".format(start_range, end_range))\n",
    "    for number in armstrong_numbers_in_range:\n",
    "        print(number)\n",
    "else:\n",
    "    print(\"No Armstrong numbers found in the range {} to {}.\".format(start_range, end_range))"
   ]
  },
  {
   "cell_type": "code",
   "execution_count": 14,
   "id": "e58b9701-295f-4c51-b504-ca8c0517d873",
   "metadata": {},
   "outputs": [
    {
     "name": "stdin",
     "output_type": "stream",
     "text": [
      "Enter the starting range:  1\n",
      "Enter the ending range:  20\n"
     ]
    },
    {
     "name": "stdout",
     "output_type": "stream",
     "text": [
      "Perfect numbers in the range 1 to 20:\n",
      "1\n",
      "6\n"
     ]
    }
   ],
   "source": [
    "'''11. Write a Python program to print all perfect numbers between given range using functions.\n",
    "[ perfect number is a positive integer that is equal to the sum of its positive divisor, excluding the number itself example 6 3+2+1= 6]'''\n",
    "\n",
    "def is_perfect_number(num):\n",
    "    divisors = [1]  # Start with 1 as a divisor\n",
    "    for i in range(2, int(num ** 0.5) + 1):\n",
    "        if num % i == 0:\n",
    "            divisors.extend([i, num // i])\n",
    "    return num == sum(divisors)\n",
    "\n",
    "def find_perfect_numbers(start, end):\n",
    "    perfect_numbers = []\n",
    "    for number in range(start, end + 1):\n",
    "        if is_perfect_number(number):\n",
    "            perfect_numbers.append(number)\n",
    "    return perfect_numbers\n",
    "\n",
    "start_range = int(input(\"Enter the starting range: \"))\n",
    "end_range = int(input(\"Enter the ending range: \"))\n",
    "\n",
    "perfect_numbers_in_range = find_perfect_numbers(start_range, end_range)\n",
    "\n",
    "if perfect_numbers_in_range:\n",
    "    print(\"Perfect numbers in the range {} to {}:\".format(start_range, end_range))\n",
    "    for number in perfect_numbers_in_range:\n",
    "        print(number)\n",
    "else:\n",
    "    print(\"No perfect numbers found in the range {} to {}.\".format(start_range, end_range))"
   ]
  },
  {
   "cell_type": "code",
   "execution_count": 15,
   "id": "0b1e98a6-a960-45ec-bd2e-5fe2cfcf1d4c",
   "metadata": {},
   "outputs": [
    {
     "name": "stdin",
     "output_type": "stream",
     "text": [
      "Enter the range to find twin prime numbers:  1\n"
     ]
    },
    {
     "name": "stdout",
     "output_type": "stream",
     "text": [
      "Twin Prime Numbers up to 1 are:\n"
     ]
    }
   ],
   "source": [
    "'''12. Write a python program to find twin prime numbers up to a range.\n",
    "[ex 3,5 5,6 11,13 17,19 41,43 ] all are twin prime their number difference is 1'''\n",
    "def is_prime(n):\n",
    "    if n <= 1:\n",
    "        return False\n",
    "    if n <= 3:\n",
    "        return True\n",
    "    if n % 2 == 0 or n % 3 == 0:\n",
    "        return False\n",
    "    i = 5\n",
    "    while i * i <= n:\n",
    "        if n % i == 0 or n % (i + 2) == 0:\n",
    "            return False\n",
    "        i += 6\n",
    "    return True\n",
    "def find_twin_primes(limit):\n",
    "    twin_primes = []\n",
    "    for num in range(2, limit):\n",
    "        if is_prime(num) and is_prime(num + 2):\n",
    "            twin_primes.append((num, num + 2))\n",
    "    return twin_primes\n",
    "range_limit = int(input(\"Enter the range to find twin prime numbers: \"))\n",
    "twin_prime_numbers = find_twin_primes(range_limit)\n",
    "print(\"Twin Prime Numbers up to\", range_limit, \"are:\")\n",
    "for twin_prime in twin_prime_numbers:\n",
    "    print(twin_prime[0], \",\", twin_prime[1])"
   ]
  },
  {
   "cell_type": "code",
   "execution_count": 16,
   "id": "e649ce45-fc90-4373-938a-5c6f56e6af25",
   "metadata": {},
   "outputs": [
    {
     "name": "stdout",
     "output_type": "stream",
     "text": [
      "Resultant tuple:\n",
      "[('Maths', 97), ('Science', 90), ('English', 88), ('Social sciences', 82)]\n"
     ]
    }
   ],
   "source": [
    "'''13. Write a Python program to sort a list of tuples using Lambda.\n",
    "Original list of tuple:- [('English',88),('Science',90),('Maths',97),('Socialsciences',82)]\n",
    "Resultant tuple:- [('Social sciences', 60), ('English', 70), ('Science', 77), ('Maths', 95)]'''\n",
    " \n",
    "original_list = [('English', 88), ('Science', 90), ('Maths', 97), ('Social sciences', 82)]\n",
    "sorted_list = sorted(original_list, key=lambda x: x[1], reverse=True)\n",
    "print(\"Resultant tuple:\")\n",
    "print(sorted_list)"
   ]
  },
  {
   "cell_type": "code",
   "execution_count": 17,
   "id": "b7445601-58d7-4480-b2f8-d174f9937e30",
   "metadata": {},
   "outputs": [
    {
     "name": "stdout",
     "output_type": "stream",
     "text": [
      "Even number list: [2, 4, 6, 8, 10]\n",
      "Odd number list: [1, 3, 5, 7, 9]\n"
     ]
    }
   ],
   "source": [
    "'''14. Write a Python program to filter a list of integers using Lambda\n",
    "Original list of numbers:-\n",
    "[1 , 2 , 3 , 4 , 5 , 6 , 7 , 8 , 9 , 10]\n",
    "Result:-\n",
    "Even number list:-\n",
    "[2 , 4 , 6 , 8 , 10]\n",
    "Odd number List:-\n",
    "[1 , 3 , 5 , 7 , 9]'''\n",
    "\n",
    "numbers = [1, 2, 3, 4, 5, 6, 7, 8, 9, 10]\n",
    "even_numbers = list(filter(lambda x: x % 2 == 0, numbers))\n",
    "odd_numbers = list(filter(lambda x: x % 2 != 0, numbers))\n",
    "print(\"Even number list:\", even_numbers)\n",
    "print(\"Odd number list:\", odd_numbers)"
   ]
  },
  {
   "cell_type": "code",
   "execution_count": 18,
   "id": "170ce08c-c14f-4ee6-9cf8-9ff8cb058c33",
   "metadata": {},
   "outputs": [
    {
     "name": "stdout",
     "output_type": "stream",
     "text": [
      "Sorted List of Names: ['Hardik', 'Kunal', 'Priyank', 'Urjit', 'Vivek']\n"
     ]
    }
   ],
   "source": [
    "'''15. Write a program to sort a given list of names. (Use sort() method of list)'''\n",
    "names = ['Priyank', 'Urjit', 'Vivek', 'Kunal', 'Hardik']\n",
    "names.sort()\n",
    "print(\"Sorted List of Names:\", names)"
   ]
  },
  {
   "cell_type": "code",
   "execution_count": 19,
   "id": "2afb62b4-c13e-4c89-aecd-c3eda2fbf3ae",
   "metadata": {},
   "outputs": [
    {
     "name": "stdout",
     "output_type": "stream",
     "text": [
      "Merged and Sorted List: ['Harsh', 'Priyank', 'Sahil', 'Harshil', 'Sachin', 'Rahul', 'Urjit', 'Vivek', 'Kunal', 'Hardik']\n"
     ]
    }
   ],
   "source": [
    "'''16. Write a program to merge two given sorted lists of names into single sorted list of names.'''\n",
    "list1 = ['Priyank', 'Urjit', 'Vivek', 'Kunal', 'Hardik']\n",
    "list2 = ['Harsh', 'Sahil', 'Harshil', 'Sachin', 'Rahul']\n",
    "merged_list = []\n",
    "i, j = 0, 0\n",
    "while i < len(list1) and j < len(list2):\n",
    "    if list1[i] < list2[j]:\n",
    "        merged_list.append(list1[i])\n",
    "        i += 1\n",
    "    else:\n",
    "        merged_list.append(list2[j])\n",
    "        j += 1\n",
    "merged_list.extend(list1[i:])\n",
    "merged_list.extend(list2[j:])\n",
    "print(\"Merged and Sorted List:\", merged_list)"
   ]
  },
  {
   "cell_type": "code",
   "execution_count": 20,
   "id": "07b10c0e-bdce-4e30-8dd8-8a65757b47ee",
   "metadata": {},
   "outputs": [
    {
     "name": "stdout",
     "output_type": "stream",
     "text": [
      "Original List: [1, 2, 2, 3, 4, 4, 5, 6, 6]\n",
      "List with Duplicates Removed: [1, 2, 3, 4, 5, 6]\n"
     ]
    }
   ],
   "source": [
    "'''17. Write a program to remove the duplicates from a list.'''\n",
    "my_list = [1, 2, 2, 3, 4, 4, 5, 6, 6]\n",
    "unique_list = list(set(my_list))\n",
    "print(\"Original List:\", my_list)\n",
    "print(\"List with Duplicates Removed:\", unique_list)"
   ]
  },
  {
   "cell_type": "code",
   "execution_count": 21,
   "id": "de311587-c3fe-46ba-a1d4-b35f7fa59247",
   "metadata": {},
   "outputs": [
    {
     "name": "stdout",
     "output_type": "stream",
     "text": [
      "The maximum number in the list is: 89\n"
     ]
    }
   ],
   "source": [
    "'''18. Write a program to find the maximum number in the list.'''\n",
    "numbers = [12, 45, 89, 24, 50, 7, 61, 38]\n",
    "maximum = max(numbers)\n",
    "print(\"The maximum number in the list is:\", maximum)"
   ]
  },
  {
   "cell_type": "code",
   "execution_count": 22,
   "id": "a42614d7-7e10-4a6b-91ec-3a82ce42d8d0",
   "metadata": {},
   "outputs": [
    {
     "name": "stdout",
     "output_type": "stream",
     "text": [
      "\n",
      "Options:\n",
      "1. Enter a new message\n",
      "2. Retrieve and print a message\n",
      "3. Exit\n"
     ]
    },
    {
     "name": "stdin",
     "output_type": "stream",
     "text": [
      "Enter your choice (1/2/3):  3\n"
     ]
    },
    {
     "name": "stdout",
     "output_type": "stream",
     "text": [
      "Program exited.\n"
     ]
    }
   ],
   "source": [
    "'''19. Write a program to enter key and value for message according the key print the message.'''\n",
    "# Create an empty dictionary to store key-value pairs\n",
    "message_dict = {}\n",
    "\n",
    "# Function to enter a new message\n",
    "def enter_message():\n",
    "    key = input(\"Enter the key for the message: \")\n",
    "    value = input(\"Enter the message: \")\n",
    "    message_dict[key] = value\n",
    "\n",
    "# Function to retrieve and print a message\n",
    "def print_message():\n",
    "    key = input(\"Enter the key to retrieve the message: \")\n",
    "    if key in message_dict:\n",
    "        print(\"Message:\", message_dict[key])\n",
    "    else:\n",
    "        print(\"Key not found. Please enter a valid key.\")\n",
    "\n",
    "while True:\n",
    "    print(\"\\nOptions:\")\n",
    "    print(\"1. Enter a new message\")\n",
    "    print(\"2. Retrieve and print a message\")\n",
    "    print(\"3. Exit\")\n",
    "    choice = input(\"Enter your choice (1/2/3): \")\n",
    "    \n",
    "    if choice == '1':\n",
    "        enter_message()\n",
    "    elif choice == '2':\n",
    "        print_message()\n",
    "    elif choice == '3':\n",
    "        break\n",
    "    else:\n",
    "        print(\"Invalid choice. Please enter 1, 2, or 3\")\n",
    "print(\"Program exited.\")"
   ]
  },
  {
   "cell_type": "code",
   "execution_count": 23,
   "id": "6339ff56-2922-42d8-b249-4ef4fedd2667",
   "metadata": {},
   "outputs": [
    {
     "name": "stdout",
     "output_type": "stream",
     "text": [
      "Union: {1, 2, 3, 4, 5, 6, 7}\n",
      "Intersection: {3, 4, 5}\n",
      "Difference (set1 - set2): {1, 2}\n",
      "Symmetric Difference: {1, 2, 6, 7}\n",
      "Is set2 a subset of set1? False\n",
      "Is set1 a superset of set2? False\n",
      "Add an element to set1: {1, 2, 3, 4, 5, 6}\n",
      "Remove an element from set2: {3, 4, 5, 6}\n"
     ]
    }
   ],
   "source": [
    "'''20. Write a program to demonstrate different set operation in python.'''\n",
    "# Define two sample sets\n",
    "set1 = {1, 2, 3, 4, 5}\n",
    "set2 = {3, 4, 5, 6, 7}\n",
    "\n",
    "# Union: Elements that are in either set1 or set2 or both\n",
    "union_result = set1.union(set2)\n",
    "print(\"Union:\", union_result)\n",
    "\n",
    "# Intersection: Elements that are in both set1 and set2\n",
    "intersection_result = set1.intersection(set2)\n",
    "print(\"Intersection:\", intersection_result)\n",
    "\n",
    "# Difference: Elements that are in set1 but not in set2\n",
    "difference_result = set1.difference(set2)\n",
    "print(\"Difference (set1 - set2):\", difference_result)\n",
    "\n",
    "# Symmetric Difference: Elements that are in either set1 or set2, but not in both\n",
    "symmetric_difference_result = set1.symmetric_difference(set2)\n",
    "print(\"Symmetric Difference:\", symmetric_difference_result)\n",
    "\n",
    "# Check if set2 is a subset of set1\n",
    "is_subset = set2.issubset(set1)\n",
    "print(\"Is set2 a subset of set1?\", is_subset)\n",
    "\n",
    "# Check if set1 is a superset of set2\n",
    "is_superset = set1.issuperset(set2)\n",
    "print(\"Is set1 a superset of set2?\", is_superset)\n",
    "\n",
    "# Add an element to set1\n",
    "set1.add(6)\n",
    "print(\"Add an element to set1:\", set1)\n",
    "\n",
    "# Remove an element from set2\n",
    "set2.remove(7)\n",
    "print(\"Remove an element from set2:\", set2)\n"
   ]
  },
  {
   "cell_type": "code",
   "execution_count": 24,
   "id": "8f48084c-afe4-44e6-9b72-b2be2ff9cf79",
   "metadata": {},
   "outputs": [
    {
     "name": "stdin",
     "output_type": "stream",
     "text": [
      "Enter the value of n:  20\n"
     ]
    },
    {
     "name": "stdout",
     "output_type": "stream",
     "text": [
      "The 20th Fibonacci term is: 4181\n"
     ]
    }
   ],
   "source": [
    "'''21. Write a Python program to generate nth Fibonacci term using function.'''\n",
    "def fibonacci(n):\n",
    "    if n <= 0:\n",
    "        return \"Invalid input. Please enter a positive integer.\"\n",
    "    elif n == 1:\n",
    "        return 0\n",
    "    elif n == 2:\n",
    "        return 1\n",
    "    else:\n",
    "        a, b = 0, 1\n",
    "        for _ in range(2, n):\n",
    "            a, b = b, a + b\n",
    "        return b\n",
    "n = int(input(\"Enter the value of n: \"))\n",
    "result = fibonacci(n)\n",
    "if isinstance(result, int):\n",
    "    print(f\"The {n}th Fibonacci term is: {result}\")\n",
    "else:\n",
    "    print(result)"
   ]
  },
  {
   "cell_type": "code",
   "execution_count": 25,
   "id": "74ecd05d-f13c-4484-a8ee-8cbef043f8d8",
   "metadata": {},
   "outputs": [
    {
     "name": "stdout",
     "output_type": "stream",
     "text": [
      "Even numbers: [2, 4, 6, 8, 10]\n",
      "Odd numbers: [1, 3, 5, 7, 9]\n"
     ]
    }
   ],
   "source": [
    "'''22. Write a program that send a list to the function and determine the odd and even numbers from the list.'''\n",
    "def find_odd_even(numbers):\n",
    "    even_numbers = []\n",
    "    odd_numbers = []\n",
    "    for number in numbers:\n",
    "        if number % 2 == 0:\n",
    "            even_numbers.append(number)\n",
    "        else:\n",
    "            odd_numbers.append(number)\n",
    "    return even_numbers, odd_numbers\n",
    "number_list = [1, 2, 3, 4, 5, 6, 7, 8, 9, 10]\n",
    "even, odd = find_odd_even(number_list)\n",
    "print(\"Even numbers:\", even)\n",
    "print(\"Odd numbers:\", odd)"
   ]
  },
  {
   "cell_type": "code",
   "execution_count": 26,
   "id": "3e22216f-c045-449a-8e25-3612130d248f",
   "metadata": {},
   "outputs": [
    {
     "name": "stdout",
     "output_type": "stream",
     "text": [
      "Ascending Sort: {'d': 5, 'a': 10, 'c': 20, 'b': 30}\n",
      "Descending Sort: {'b': 30, 'c': 20, 'a': 10, 'd': 5}\n"
     ]
    }
   ],
   "source": [
    "'''23. Write a Python script to sort (ascending and descending) a dictionary by value.'''\n",
    "sample_dict = {'a': 10, 'b': 30, 'c': 20, 'd': 5}\n",
    "sorted_dict_ascending = dict(sorted(sample_dict.items(), key=lambda item: item[1]))\n",
    "sorted_dict_descending = dict(sorted(sample_dict.items(), key=lambda item: item[1], reverse=True))\n",
    "print(\"Ascending Sort:\", sorted_dict_ascending)\n",
    "print(\"Descending Sort:\", sorted_dict_descending)"
   ]
  },
  {
   "cell_type": "code",
   "execution_count": 27,
   "id": "bdab09eb-4237-48f5-9617-52e1154db089",
   "metadata": {},
   "outputs": [
    {
     "name": "stdout",
     "output_type": "stream",
     "text": [
      "{0: 10, 1: 20, 2: 30}\n"
     ]
    }
   ],
   "source": [
    "'''24. Write a Python script to add a key to a dictionary.\n",
    "Sample Dictionary : {0: 10, 1: 20}\n",
    "Expected Result : {0: 10, 1: 20, 2: 30}'''\n",
    "sample_dict = {0: 10, 1: 20}\n",
    "sample_dict[2] = 30\n",
    "print(sample_dict)"
   ]
  },
  {
   "cell_type": "code",
   "execution_count": 28,
   "id": "99d686ec-a791-4ba7-a37f-f62c4f836a26",
   "metadata": {},
   "outputs": [
    {
     "name": "stdout",
     "output_type": "stream",
     "text": [
      "{1: 1, 2: 4, 3: 9, 4: 16, 5: 25}\n"
     ]
    }
   ],
   "source": [
    "'''25. Write a Python script to generate and print a dictionary that contains a number (between 1 and n) in the form (x, x*x).\n",
    "Sample Dictionary ( n = 5) :\n",
    "Expected Output : {1: 1, 2: 4, 3: 9, 4: 16, 5: 25}'''\n",
    "n = 5\n",
    "result_dict = {x: x * x for x in range(1, n + 1)}\n",
    "print(result_dict)"
   ]
  },
  {
   "cell_type": "code",
   "execution_count": 29,
   "id": "7fb72bb1-4b7f-4716-86ce-b2c98e26b1fd",
   "metadata": {},
   "outputs": [
    {
     "name": "stdout",
     "output_type": "stream",
     "text": [
      "100\n"
     ]
    }
   ],
   "source": [
    "'''26. Write a Python program to sum all the items in a dictionary.'''\n",
    "my_dict = {\n",
    "    'a':10,\n",
    "    'b':20,\n",
    "    'c':30,\n",
    "    'd':40,\n",
    "}\n",
    "total=sum(my_dict.values())\n",
    "print(total)"
   ]
  },
  {
   "cell_type": "code",
   "execution_count": 32,
   "id": "9e085033-ec3e-4b9c-8b5a-ba16dd3ddb47",
   "metadata": {},
   "outputs": [
    {
     "name": "stdout",
     "output_type": "stream",
     "text": [
      "Counter({'a': 400, 'b': 400, 'd': 400, 'c': 300})\n"
     ]
    }
   ],
   "source": [
    "'''27. Write a Python program to combine two dictionary by adding values for common keys.\n",
    "d1 = {'a': 100, 'b': 200, 'c':300}\n",
    "d2 = {'a': 300, 'b': 200, 'd':400}\n",
    "Sample output: Counter({'a': 400, 'b': 400, 'd': 400, 'c': 300})'''\n",
    "from collections import Counter \n",
    "\n",
    "d1 = {'a': 100, 'b': 200, 'c': 300}\n",
    "d2 = {'a': 300, 'b': 200, 'd': 400}\n",
    "\n",
    "# Combine the dictionaries by adding values for common keys\n",
    "result = Counter(d1) + Counter(d2)\n",
    "print(result)\n"
   ]
  },
  {
   "cell_type": "code",
   "execution_count": 33,
   "id": "53d2f416-e38b-4bf6-b56d-1438c590e61f",
   "metadata": {},
   "outputs": [
    {
     "name": "stdout",
     "output_type": "stream",
     "text": [
      "Unique Values: {'S007', 'S002', 'S001', 'S009', 'S005'}\n"
     ]
    }
   ],
   "source": [
    "'''28. Write a Python program to print all distinct values in a dictionary.\n",
    "Sample Data : [{\"V\":\"S001\"}, {\"V\": \"S002\"}, {\"VI\": \"S001\"}, {\"VI\": \"S005\"}, {\"VII\":\"S005\"}, {\"V\":\"S009\"},{\"VIII\":\"S007\"}]\n",
    "Expected Output : Unique Values: {'S005', 'S002', 'S007', 'S001', 'S009'}'''\n",
    "\n",
    "data = [\n",
    "    {\"V\": \"S001\"},\n",
    "    {\"V\": \"S002\"},\n",
    "    {\"VI\": \"S001\"},\n",
    "    {\"VI\": \"S005\"},\n",
    "    {\"VII\": \"S005\"},\n",
    "    {\"V\": \"S009\"},\n",
    "    {\"VIII\": \"S007\"}\n",
    "]\n",
    "\n",
    "unique_values = set()  # Create a set to store unique values\n",
    "\n",
    "# Iterate through the dictionaries and collect unique values\n",
    "for d in data:\n",
    "    for value in d.values():\n",
    "        unique_values.add(value)\n",
    "\n",
    "print(\"Unique Values:\", unique_values)\n"
   ]
  },
  {
   "cell_type": "code",
   "execution_count": 8,
   "id": "62da00c9-4047-4306-96ed-409d233379be",
   "metadata": {},
   "outputs": [
    {
     "name": "stdout",
     "output_type": "stream",
     "text": [
      "ac\n",
      "ad\n",
      "bc\n",
      "bd\n"
     ]
    }
   ],
   "source": [
    "'''29. Write a Python program to create and display all combinations of letters, selecting each letter from a different key in a dictionary.\n",
    "Sample data : {'1':['a','b'], '2':['c','d']}\n",
    "Expected Output:\n",
    "ac\n",
    "ad\n",
    "bc\n",
    "bd'''\n",
    "\n",
    "data = {'1': ['a', 'b'], '2': ['c', 'd']}\n",
    "\n",
    "combinations = []\n",
    "\n",
    "# Nested loop to generate combinations\n",
    "for letter1 in data['1']:\n",
    "    for letter2 in data['2']:\n",
    "        combination = letter1 + letter2\n",
    "        combinations.append(combination)\n",
    "\n",
    "# Display the combinations\n",
    "for combination in combinations:\n",
    "    print(combination)"
   ]
  },
  {
   "cell_type": "code",
   "execution_count": 26,
   "id": "88396061-0caa-4cba-9b42-5e33353f04c5",
   "metadata": {},
   "outputs": [
    {
     "name": "stdout",
     "output_type": "stream",
     "text": [
      "{'a': 1, 'b': 2, 'c': 3}\n"
     ]
    }
   ],
   "source": [
    "'''30. convertind two lists into list.''' \n",
    "keys = [\"a\", \"b\", \"c\"]\n",
    "values = [1, 2, 3]\n",
    "my_dict = dict(zip(keys, values))\n",
    "print(my_dict)"
   ]
  },
  {
   "cell_type": "code",
   "execution_count": 34,
   "id": "792b91e4-3d5d-45ef-8b86-ae334588bc8e",
   "metadata": {},
   "outputs": [
    {
     "name": "stdout",
     "output_type": "stream",
     "text": [
      "History score: 80\n"
     ]
    }
   ],
   "source": [
    "'''31. Print the value of key ‘history’ from the below dict\n",
    "sampleDict = {\n",
    "    \"class\": {\n",
    "        \"student\": {\n",
    "            \"name\": \"Mike\",\n",
    "            \"marks\": {\n",
    "                \"physics\": 70,\n",
    "                \"history\": 80\n",
    "            }\n",
    "        }\n",
    "    }\n",
    "}\n",
    "'''\n",
    "\n",
    "sampleDict = {\n",
    "    \"class\": \n",
    "    {\n",
    "        \"student\": \n",
    "        {\n",
    "            \"name\": \"Mike\",\n",
    "            \"marks\": \n",
    "            {\n",
    "                \"physics\": 70,\n",
    "                \"history\": 80,\n",
    "            }\n",
    "        }\n",
    "    }\n",
    "}\n",
    "\n",
    "# Access the value of the 'history' key\n",
    "history_score = sampleDict[\"class\"][\"student\"][\"marks\"][\"history\"]\n",
    "\n",
    "print(\"History score:\", history_score)\n"
   ]
  },
  {
   "cell_type": "code",
   "execution_count": 35,
   "id": "1c0731ba-d8dc-499a-97f9-2e2d7f36231c",
   "metadata": {},
   "outputs": [
    {
     "name": "stdout",
     "output_type": "stream",
     "text": [
      "{'name': 'Kelly', 'salary': 8000}\n"
     ]
    }
   ],
   "source": [
    "'''32. Write a Python program to create a new dictionary by extracting the mentioned keys from the below dictionary.\n",
    "\n",
    "Given dictionary:\n",
    "\n",
    "sample_dict = {\n",
    "    \"name\": \"Kelly\",\n",
    "    \"age\": 25,\n",
    "    \"salary\": 8000,\n",
    "    \"city\": \"New york\"}\n",
    "\n",
    "# Keys to extract\n",
    "keys = [\"name\", \"salary\"]\n",
    "\n",
    "Expected output:\n",
    "\n",
    "{'name': 'Kelly', 'salary': 8000}\n",
    "'''\n",
    "\n",
    "sample_dict = {\n",
    "    \"name\": \"Kelly\",\n",
    "    \"age\": 25,\n",
    "    \"salary\": 8000,\n",
    "    \"city\": \"New York\"\n",
    "}\n",
    "\n",
    "keys = [\"name\", \"salary\"]\n",
    "\n",
    "# Create a new dictionary by extracting the specified keys\n",
    "extracted_dict = {key: sample_dict[key] for key in keys }\n",
    "\n",
    "print(extracted_dict)\n"
   ]
  }
 ],
 "metadata": {
  "kernelspec": {
   "display_name": "Python 3 (ipykernel)",
   "language": "python",
   "name": "python3"
  },
  "language_info": {
   "codemirror_mode": {
    "name": "ipython",
    "version": 3
   },
   "file_extension": ".py",
   "mimetype": "text/x-python",
   "name": "python",
   "nbconvert_exporter": "python",
   "pygments_lexer": "ipython3",
   "version": "3.12.0"
  }
 },
 "nbformat": 4,
 "nbformat_minor": 5
}
